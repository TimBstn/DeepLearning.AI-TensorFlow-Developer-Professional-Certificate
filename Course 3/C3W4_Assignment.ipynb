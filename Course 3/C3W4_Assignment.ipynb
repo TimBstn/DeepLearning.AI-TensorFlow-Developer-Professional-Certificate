{
  "cells": [
    {
      "cell_type": "markdown",
      "metadata": {
        "id": "bFWbEb6uGbN-"
      },
      "source": [
        "# Week 4: Predicting the next word\n",
        "\n",
        "Welcome to this assignment! During this week you saw how to create a model that will predict the next word in a text sequence, now you will implement such model and train it using a corpus of Shakespeare's sonnets, while also creating some helper functions to pre-process the data.\n",
        "\n",
        "\n",
        "Let's get started!"
      ]
    },
    {
      "cell_type": "code",
      "execution_count": 2,
      "metadata": {
        "id": "BOwsuGQQY9OL",
        "tags": [
          "graded"
        ]
      },
      "outputs": [],
      "source": [
        "import numpy as np \n",
        "import matplotlib.pyplot as plt\n",
        "from tensorflow.keras.models import Sequential\n",
        "from tensorflow.keras.utils import to_categorical \n",
        "from tensorflow.keras.preprocessing.text import Tokenizer\n",
        "from tensorflow.keras.preprocessing.sequence import pad_sequences\n",
        "from tensorflow.keras.layers import Embedding, LSTM, Dense, Bidirectional, Dropout"
      ]
    },
    {
      "cell_type": "markdown",
      "metadata": {
        "id": "BTxqlHqKHzhr"
      },
      "source": [
        "For this assignment you will be using the [Shakespeare Sonnets Dataset](https://www.opensourceshakespeare.org/views/sonnets/sonnet_view.php?range=viewrange&sonnetrange1=1&sonnetrange2=154), which contains more than 2000 lines of text extracted from Shakespeare's sonnets."
      ]
    },
    {
      "cell_type": "code",
      "execution_count": 3,
      "metadata": {
        "id": "WZ4qOUzujMP6",
        "tags": [
          "graded"
        ],
        "outputId": "21249665-41e0-4ce7-a48c-d0bb604a633a",
        "colab": {
          "base_uri": "https://localhost:8080/"
        }
      },
      "outputs": [
        {
          "output_type": "stream",
          "name": "stdout",
          "text": [
            "/usr/local/lib/python3.7/dist-packages/gdown/cli.py:131: FutureWarning: Option `--id` was deprecated in version 4.3.1 and will be removed in 5.0. You don't need to pass it anymore to use a file ID.\n",
            "  category=FutureWarning,\n",
            "Downloading...\n",
            "From: https://drive.google.com/uc?id=108jAePKK4R3BVYBbYJZ32JWUwxeMg20K\n",
            "To: /content/sonnets.txt\n",
            "100% 93.6k/93.6k [00:00<00:00, 91.0MB/s]\n"
          ]
        }
      ],
      "source": [
        "# sonnets.txt\n",
        "!gdown --id 108jAePKK4R3BVYBbYJZ32JWUwxeMg20K"
      ]
    },
    {
      "cell_type": "code",
      "execution_count": 4,
      "metadata": {
        "id": "Pfd-nYKij5yY",
        "tags": [
          "graded"
        ],
        "outputId": "1f0a4e2c-d15f-48ee-fddc-21d34e8235fc",
        "colab": {
          "base_uri": "https://localhost:8080/"
        }
      },
      "outputs": [
        {
          "output_type": "stream",
          "name": "stdout",
          "text": [
            "There are 2159 lines of sonnets\n",
            "\n",
            "The first 5 lines look like this:\n",
            "\n",
            "from fairest creatures we desire increase,\n",
            "that thereby beauty's rose might never die,\n",
            "but as the riper should by time decease,\n",
            "his tender heir might bear his memory:\n",
            "but thou, contracted to thine own bright eyes,\n"
          ]
        }
      ],
      "source": [
        "# Define path for file with sonnets\n",
        "SONNETS_FILE = './sonnets.txt'\n",
        "\n",
        "# Read the data\n",
        "with open('./sonnets.txt') as f:\n",
        "    data = f.read()\n",
        "\n",
        "# Convert to lower case and save as a list\n",
        "corpus = data.lower().split(\"\\n\")\n",
        "\n",
        "print(f\"There are {len(corpus)} lines of sonnets\\n\")\n",
        "print(f\"The first 5 lines look like this:\\n\")\n",
        "for i in range(5):\n",
        "  print(corpus[i])"
      ]
    },
    {
      "cell_type": "markdown",
      "metadata": {
        "id": "imB15zrSNhA1"
      },
      "source": [
        "## Tokenizing the text\n",
        "\n",
        "Now fit the Tokenizer to the corpus and save the total number of words."
      ]
    },
    {
      "cell_type": "code",
      "execution_count": 5,
      "metadata": {
        "id": "AAhM_qAZk0o5",
        "tags": [
          "graded"
        ]
      },
      "outputs": [],
      "source": [
        "tokenizer = Tokenizer()\n",
        "tokenizer.fit_on_texts(corpus)\n",
        "total_words = len(tokenizer.word_index) + 1"
      ]
    },
    {
      "cell_type": "markdown",
      "metadata": {
        "id": "77-0sA46OETa"
      },
      "source": [
        "When converting the text into sequences you can use the `texts_to_sequences` method as you have done throughout this course.\n",
        "\n",
        "In the next graded function you will need to process this corpus one line at a time. Given this, it is important to keep in mind that the way you are feeding the data unto this method affects the result. Check the following example to make this clearer.\n",
        "\n",
        "The first example of the corpus is a string and looks like this:"
      ]
    },
    {
      "cell_type": "code",
      "execution_count": 6,
      "metadata": {
        "id": "tqhPxdeXlfjh",
        "tags": [
          "graded"
        ],
        "outputId": "d4d591ec-ff2d-43c8-9151-b742a8c94853",
        "colab": {
          "base_uri": "https://localhost:8080/",
          "height": 35
        }
      },
      "outputs": [
        {
          "output_type": "execute_result",
          "data": {
            "text/plain": [
              "'from fairest creatures we desire increase,'"
            ],
            "application/vnd.google.colaboratory.intrinsic+json": {
              "type": "string"
            }
          },
          "metadata": {},
          "execution_count": 6
        }
      ],
      "source": [
        "corpus[0]"
      ]
    },
    {
      "cell_type": "markdown",
      "metadata": {
        "id": "XFMP4z11O3os"
      },
      "source": [
        "If you pass this text directly into the `texts_to_sequences` method you will get an unexpected result:"
      ]
    },
    {
      "cell_type": "code",
      "execution_count": 7,
      "metadata": {
        "id": "EMSEhmbzNZCE",
        "tags": [
          "graded"
        ],
        "outputId": "5e1386d3-671e-4d28-d70d-f46a94206104",
        "colab": {
          "base_uri": "https://localhost:8080/"
        }
      },
      "outputs": [
        {
          "output_type": "execute_result",
          "data": {
            "text/plain": [
              "[[],\n",
              " [],\n",
              " [58],\n",
              " [],\n",
              " [],\n",
              " [],\n",
              " [17],\n",
              " [6],\n",
              " [],\n",
              " [],\n",
              " [],\n",
              " [],\n",
              " [],\n",
              " [],\n",
              " [],\n",
              " [],\n",
              " [17],\n",
              " [],\n",
              " [],\n",
              " [],\n",
              " [],\n",
              " [],\n",
              " [],\n",
              " [],\n",
              " [],\n",
              " [],\n",
              " [],\n",
              " [],\n",
              " [],\n",
              " [6],\n",
              " [],\n",
              " [],\n",
              " [],\n",
              " [6],\n",
              " [],\n",
              " [],\n",
              " [],\n",
              " [],\n",
              " [17],\n",
              " [],\n",
              " [],\n",
              " []]"
            ]
          },
          "metadata": {},
          "execution_count": 7
        }
      ],
      "source": [
        "tokenizer.texts_to_sequences(corpus[0])"
      ]
    },
    {
      "cell_type": "markdown",
      "metadata": {
        "id": "pPZmZtpEPEeI"
      },
      "source": [
        "This happened because `texts_to_sequences` expects a list and you are providing a string. However a string is still and `iterable` in Python so you will get the word index of every character in the string.\n",
        "\n",
        "Instead you need to place the example whithin a list before passing it to the method:"
      ]
    },
    {
      "cell_type": "code",
      "execution_count": 8,
      "metadata": {
        "id": "Qmgo-vXhk4nd",
        "tags": [
          "graded"
        ],
        "outputId": "f7108816-34aa-443e-8706-e6c155dba148",
        "colab": {
          "base_uri": "https://localhost:8080/"
        }
      },
      "outputs": [
        {
          "output_type": "execute_result",
          "data": {
            "text/plain": [
              "[[34, 417, 877, 166, 213, 517]]"
            ]
          },
          "metadata": {},
          "execution_count": 8
        }
      ],
      "source": [
        "tokenizer.texts_to_sequences([corpus[0]])"
      ]
    },
    {
      "cell_type": "markdown",
      "metadata": {
        "id": "0DU7wK-eQ5dc"
      },
      "source": [
        "Notice that you received the sequence wrapped inside a list so in order to get only the desired sequence you need to explicitly get the first item in the list like this:"
      ]
    },
    {
      "cell_type": "code",
      "execution_count": 9,
      "metadata": {
        "id": "kpTy8WmIQ57P",
        "tags": [
          "graded"
        ],
        "outputId": "5b00b550-b733-4c4c-8556-f04f5cd7dfac",
        "colab": {
          "base_uri": "https://localhost:8080/"
        }
      },
      "outputs": [
        {
          "output_type": "execute_result",
          "data": {
            "text/plain": [
              "[34, 417, 877, 166, 213, 517]"
            ]
          },
          "metadata": {},
          "execution_count": 9
        }
      ],
      "source": [
        "tokenizer.texts_to_sequences([corpus[0]])[0]"
      ]
    },
    {
      "cell_type": "markdown",
      "metadata": {
        "id": "-oqy9KjXRJ9A"
      },
      "source": [
        "## Generating n_grams\n",
        "\n",
        "Now complete the `n_gram_seqs` function below. This function receives the fitted tokenizer and the corpus (which is a list of strings) and should return a list containing the `n_gram` sequences for each line in the corpus:"
      ]
    },
    {
      "cell_type": "code",
      "execution_count": 10,
      "metadata": {
        "id": "iy4baJMDl6kj",
        "tags": [
          "graded"
        ]
      },
      "outputs": [],
      "source": [
        "# GRADED FUNCTION: n_gram_seqs\n",
        "def n_gram_seqs(corpus, tokenizer):\n",
        "    \"\"\"\n",
        "    Generates a list of n-gram sequences\n",
        "    \n",
        "    Args:\n",
        "        corpus (list of string): lines of texts to generate n-grams for\n",
        "        tokenizer (object): an instance of the Tokenizer class containing the word-index dictionary\n",
        "    \n",
        "    Returns:\n",
        "        input_sequences (list of int): the n-gram sequences for each line in the corpus\n",
        "    \"\"\"\n",
        "    input_sequences = []\n",
        "    \n",
        "    ### START CODE HERE\n",
        "\n",
        "    # Loop over every line\n",
        "    for line in corpus:\n",
        "\n",
        "      # Tokenize the current line\n",
        "      token_list = tokenizer.texts_to_sequences([line])[0]\n",
        "\n",
        "      # Loop over the line several times to generate the subphrases\n",
        "      for i in range(1, len(token_list)):\n",
        "        \n",
        "        # Generate the subphrase\n",
        "        n_gram_sequence = token_list[:i+1]\n",
        "\n",
        "        # Append the subphrase to the sequences list\n",
        "        input_sequences.append(n_gram_sequence)\n",
        "    \n",
        "    ### END CODE HERE\n",
        "    \n",
        "    return input_sequences"
      ]
    },
    {
      "cell_type": "code",
      "execution_count": 11,
      "metadata": {
        "id": "DlKqW2pfM7G3",
        "tags": [
          "graded"
        ],
        "outputId": "931c3517-5b5a-43d7-cbf2-97dd46cd96cd",
        "colab": {
          "base_uri": "https://localhost:8080/"
        }
      },
      "outputs": [
        {
          "output_type": "stream",
          "name": "stdout",
          "text": [
            "n_gram sequences for first example look like this:\n",
            "\n"
          ]
        },
        {
          "output_type": "execute_result",
          "data": {
            "text/plain": [
              "[[34, 417],\n",
              " [34, 417, 877],\n",
              " [34, 417, 877, 166],\n",
              " [34, 417, 877, 166, 213],\n",
              " [34, 417, 877, 166, 213, 517]]"
            ]
          },
          "metadata": {},
          "execution_count": 11
        }
      ],
      "source": [
        "# Test your function with one example\n",
        "first_example_sequence = n_gram_seqs([corpus[0]], tokenizer)\n",
        "\n",
        "print(\"n_gram sequences for first example look like this:\\n\")\n",
        "first_example_sequence"
      ]
    },
    {
      "cell_type": "markdown",
      "metadata": {
        "id": "0HL8Ug6UU0Jt"
      },
      "source": [
        "**Expected Output:**\n",
        "\n",
        "```\n",
        "n_gram sequences for first example look like this:\n",
        "\n",
        "[[34, 417],\n",
        " [34, 417, 877],\n",
        " [34, 417, 877, 166],\n",
        " [34, 417, 877, 166, 213],\n",
        " [34, 417, 877, 166, 213, 517]]\n",
        "```"
      ]
    },
    {
      "cell_type": "code",
      "execution_count": 12,
      "metadata": {
        "id": "wtPpCcBjNc4c",
        "tags": [
          "graded"
        ],
        "outputId": "acfa23bb-d1f6-4a1f-9d72-a9c007fc4f31",
        "colab": {
          "base_uri": "https://localhost:8080/"
        }
      },
      "outputs": [
        {
          "output_type": "stream",
          "name": "stdout",
          "text": [
            "n_gram sequences for next 3 examples look like this:\n",
            "\n"
          ]
        },
        {
          "output_type": "execute_result",
          "data": {
            "text/plain": [
              "[[8, 878],\n",
              " [8, 878, 134],\n",
              " [8, 878, 134, 351],\n",
              " [8, 878, 134, 351, 102],\n",
              " [8, 878, 134, 351, 102, 156],\n",
              " [8, 878, 134, 351, 102, 156, 199],\n",
              " [16, 22],\n",
              " [16, 22, 2],\n",
              " [16, 22, 2, 879],\n",
              " [16, 22, 2, 879, 61],\n",
              " [16, 22, 2, 879, 61, 30],\n",
              " [16, 22, 2, 879, 61, 30, 48],\n",
              " [16, 22, 2, 879, 61, 30, 48, 634],\n",
              " [25, 311],\n",
              " [25, 311, 635],\n",
              " [25, 311, 635, 102],\n",
              " [25, 311, 635, 102, 200],\n",
              " [25, 311, 635, 102, 200, 25],\n",
              " [25, 311, 635, 102, 200, 25, 278]]"
            ]
          },
          "metadata": {},
          "execution_count": 12
        }
      ],
      "source": [
        "# Test your function with a bigger corpus\n",
        "next_3_examples_sequence = n_gram_seqs(corpus[1:4], tokenizer)\n",
        "\n",
        "print(\"n_gram sequences for next 3 examples look like this:\\n\")\n",
        "next_3_examples_sequence"
      ]
    },
    {
      "cell_type": "markdown",
      "metadata": {
        "id": "EIzecMczU9UB"
      },
      "source": [
        "**Expected Output:**\n",
        "\n",
        "```\n",
        "n_gram sequences for next 3 examples look like this:\n",
        "\n",
        "[[8, 878],\n",
        " [8, 878, 134],\n",
        " [8, 878, 134, 351],\n",
        " [8, 878, 134, 351, 102],\n",
        " [8, 878, 134, 351, 102, 156],\n",
        " [8, 878, 134, 351, 102, 156, 199],\n",
        " [16, 22],\n",
        " [16, 22, 2],\n",
        " [16, 22, 2, 879],\n",
        " [16, 22, 2, 879, 61],\n",
        " [16, 22, 2, 879, 61, 30],\n",
        " [16, 22, 2, 879, 61, 30, 48],\n",
        " [16, 22, 2, 879, 61, 30, 48, 634],\n",
        " [25, 311],\n",
        " [25, 311, 635],\n",
        " [25, 311, 635, 102],\n",
        " [25, 311, 635, 102, 200],\n",
        " [25, 311, 635, 102, 200, 25],\n",
        " [25, 311, 635, 102, 200, 25, 278]]\n",
        "```"
      ]
    },
    {
      "cell_type": "markdown",
      "metadata": {
        "id": "dx3V_RjFWQSu"
      },
      "source": [
        "Apply the `n_gram_seqs` transformation to the whole corpus and save the maximum sequence length to use it later:"
      ]
    },
    {
      "cell_type": "code",
      "execution_count": 13,
      "metadata": {
        "id": "laMwiRUpmuSd",
        "tags": [
          "graded"
        ],
        "outputId": "2e62ef84-9397-43b8-92a1-e3c621952c9e",
        "colab": {
          "base_uri": "https://localhost:8080/"
        }
      },
      "outputs": [
        {
          "output_type": "stream",
          "name": "stdout",
          "text": [
            "n_grams of input_sequences have length: 15462\n",
            "maximum length of sequences is: 11\n"
          ]
        }
      ],
      "source": [
        "# Apply the n_gram_seqs transformation to the whole corpus\n",
        "input_sequences = n_gram_seqs(corpus, tokenizer)\n",
        "\n",
        "# Save max length \n",
        "max_sequence_len = max([len(x) for x in input_sequences])\n",
        "\n",
        "print(f\"n_grams of input_sequences have length: {len(input_sequences)}\")\n",
        "print(f\"maximum length of sequences is: {max_sequence_len}\")"
      ]
    },
    {
      "cell_type": "markdown",
      "metadata": {
        "id": "2OciMdmEdE9L"
      },
      "source": [
        "**Expected Output:**\n",
        "\n",
        "```\n",
        "n_grams of input_sequences have length: 15462\n",
        "maximum length of sequences is: 11\n",
        "```"
      ]
    },
    {
      "cell_type": "markdown",
      "metadata": {
        "id": "zHY7HroqWq12"
      },
      "source": [
        "## Add padding to the sequences\n",
        "\n",
        "Now code the `pad_seqs` function which will pad any given sequences to the desired maximum length. Notice that this function receives a list of sequences and should return a numpy array with the padded sequences: "
      ]
    },
    {
      "cell_type": "code",
      "execution_count": 14,
      "metadata": {
        "cellView": "code",
        "id": "WW1-qAZaWOhC",
        "tags": [
          "graded"
        ]
      },
      "outputs": [],
      "source": [
        "# GRADED FUNCTION: pad_seqs\n",
        "def pad_seqs(input_sequences, maxlen):\n",
        "    \"\"\"\n",
        "    Pads tokenized sequences to the same length\n",
        "    \n",
        "    Args:\n",
        "        input_sequences (list of int): tokenized sequences to pad\n",
        "        maxlen (int): maximum length of the token sequences\n",
        "    \n",
        "    Returns:\n",
        "        padded_sequences (array of int): tokenized sequences padded to the same length\n",
        "    \"\"\"\n",
        "    ### START CODE HERE\n",
        "    padded_sequences = np.array(pad_sequences(input_sequences, maxlen=maxlen, padding='pre'))\n",
        "    \n",
        "    return padded_sequences\n",
        "    ### END CODE HERE"
      ]
    },
    {
      "cell_type": "code",
      "execution_count": 15,
      "metadata": {
        "id": "IqVQ0pb3YHLr",
        "tags": [
          "graded"
        ],
        "outputId": "66556efa-3d24-4ab9-ec5b-79c8dee070cb",
        "colab": {
          "base_uri": "https://localhost:8080/"
        }
      },
      "outputs": [
        {
          "output_type": "execute_result",
          "data": {
            "text/plain": [
              "array([[  0,   0,   0,  34, 417],\n",
              "       [  0,   0,  34, 417, 877],\n",
              "       [  0,  34, 417, 877, 166],\n",
              "       [ 34, 417, 877, 166, 213],\n",
              "       [417, 877, 166, 213, 517]], dtype=int32)"
            ]
          },
          "metadata": {},
          "execution_count": 15
        }
      ],
      "source": [
        "# Test your function with the n_grams_seq of the first example\n",
        "first_padded_seq = pad_seqs(first_example_sequence, len(first_example_sequence))\n",
        "first_padded_seq"
      ]
    },
    {
      "cell_type": "markdown",
      "metadata": {
        "id": "Re_avDznXRnU"
      },
      "source": [
        "**Expected Output:**\n",
        "\n",
        "```\n",
        "array([[  0,   0,   0,  34, 417],\n",
        "       [  0,   0,  34, 417, 877],\n",
        "       [  0,  34, 417, 877, 166],\n",
        "       [ 34, 417, 877, 166, 213],\n",
        "       [417, 877, 166, 213, 517]], dtype=int32)\n",
        "```"
      ]
    },
    {
      "cell_type": "code",
      "execution_count": 16,
      "metadata": {
        "id": "j56_UCOBYzZt",
        "tags": [
          "graded"
        ],
        "outputId": "bc38fff2-254b-4c3c-8a66-87d65f17b300",
        "colab": {
          "base_uri": "https://localhost:8080/"
        }
      },
      "outputs": [
        {
          "output_type": "execute_result",
          "data": {
            "text/plain": [
              "array([[  0,   0,   0,   0,   0,   0,   8, 878],\n",
              "       [  0,   0,   0,   0,   0,   8, 878, 134],\n",
              "       [  0,   0,   0,   0,   8, 878, 134, 351],\n",
              "       [  0,   0,   0,   8, 878, 134, 351, 102],\n",
              "       [  0,   0,   8, 878, 134, 351, 102, 156],\n",
              "       [  0,   8, 878, 134, 351, 102, 156, 199],\n",
              "       [  0,   0,   0,   0,   0,   0,  16,  22],\n",
              "       [  0,   0,   0,   0,   0,  16,  22,   2],\n",
              "       [  0,   0,   0,   0,  16,  22,   2, 879],\n",
              "       [  0,   0,   0,  16,  22,   2, 879,  61],\n",
              "       [  0,   0,  16,  22,   2, 879,  61,  30],\n",
              "       [  0,  16,  22,   2, 879,  61,  30,  48],\n",
              "       [ 16,  22,   2, 879,  61,  30,  48, 634],\n",
              "       [  0,   0,   0,   0,   0,   0,  25, 311],\n",
              "       [  0,   0,   0,   0,   0,  25, 311, 635],\n",
              "       [  0,   0,   0,   0,  25, 311, 635, 102],\n",
              "       [  0,   0,   0,  25, 311, 635, 102, 200],\n",
              "       [  0,   0,  25, 311, 635, 102, 200,  25],\n",
              "       [  0,  25, 311, 635, 102, 200,  25, 278]], dtype=int32)"
            ]
          },
          "metadata": {},
          "execution_count": 16
        }
      ],
      "source": [
        "# Test your function with the n_grams_seq of the next 3 examples\n",
        "next_3_padded_seq = pad_seqs(next_3_examples_sequence, max([len(s) for s in next_3_examples_sequence]))\n",
        "next_3_padded_seq"
      ]
    },
    {
      "cell_type": "markdown",
      "metadata": {
        "id": "3rmcDluOXcIU"
      },
      "source": [
        "**Expected Output:**\n",
        "\n",
        "```\n",
        "array([[  0,   0,   0,   0,   0,   0,   8, 878],\n",
        "       [  0,   0,   0,   0,   0,   8, 878, 134],\n",
        "       [  0,   0,   0,   0,   8, 878, 134, 351],\n",
        "       [  0,   0,   0,   8, 878, 134, 351, 102],\n",
        "       [  0,   0,   8, 878, 134, 351, 102, 156],\n",
        "       [  0,   8, 878, 134, 351, 102, 156, 199],\n",
        "       [  0,   0,   0,   0,   0,   0,  16,  22],\n",
        "       [  0,   0,   0,   0,   0,  16,  22,   2],\n",
        "       [  0,   0,   0,   0,  16,  22,   2, 879],\n",
        "       [  0,   0,   0,  16,  22,   2, 879,  61],\n",
        "       [  0,   0,  16,  22,   2, 879,  61,  30],\n",
        "       [  0,  16,  22,   2, 879,  61,  30,  48],\n",
        "       [ 16,  22,   2, 879,  61,  30,  48, 634],\n",
        "       [  0,   0,   0,   0,   0,   0,  25, 311],\n",
        "       [  0,   0,   0,   0,   0,  25, 311, 635],\n",
        "       [  0,   0,   0,   0,  25, 311, 635, 102],\n",
        "       [  0,   0,   0,  25, 311, 635, 102, 200],\n",
        "       [  0,   0,  25, 311, 635, 102, 200,  25],\n",
        "       [  0,  25, 311, 635, 102, 200,  25, 278]], dtype=int32)\n",
        "```"
      ]
    },
    {
      "cell_type": "code",
      "execution_count": 17,
      "metadata": {
        "id": "rgK-Q_micEYA",
        "tags": [
          "graded"
        ],
        "outputId": "dca2354a-209c-4d51-c2e7-c94421959622",
        "colab": {
          "base_uri": "https://localhost:8080/"
        }
      },
      "outputs": [
        {
          "output_type": "stream",
          "name": "stdout",
          "text": [
            "padded corpus has shape: (15462, 11)\n"
          ]
        }
      ],
      "source": [
        "# Pad the whole corpus\n",
        "input_sequences = pad_seqs(input_sequences, max_sequence_len)\n",
        "\n",
        "print(f\"padded corpus has shape: {input_sequences.shape}\")"
      ]
    },
    {
      "cell_type": "markdown",
      "metadata": {
        "id": "59RD1YYNc7CW"
      },
      "source": [
        "**Expected Output:**\n",
        "\n",
        "```\n",
        "padded corpus has shape: (15462, 11)\n",
        "```"
      ]
    },
    {
      "cell_type": "markdown",
      "metadata": {
        "id": "ZbOidyPrXxf7"
      },
      "source": [
        "## Split the data into features and labels\n",
        "\n",
        "Before feeding the data into the neural network you should split it into features and labels. In this case the features will be the padded n_gram sequences with the last word removed from them and the labels will be the removed word.\n",
        "\n",
        "Complete the `features_and_labels` function below. This function expects the padded n_gram sequences as input and should return a tuple containing the features and the one hot encoded labels.\n",
        "\n",
        "Notice that the function also receives the total of words in the corpus, this parameter will be very important when one hot enconding the labels since every word in the corpus will be a label at least once. If you need a refresh of how the `to_categorical` function works take a look at the [docs](https://www.tensorflow.org/api_docs/python/tf/keras/utils/to_categorical)"
      ]
    },
    {
      "cell_type": "code",
      "execution_count": 18,
      "metadata": {
        "cellView": "code",
        "id": "9WGGbYdnZdmJ",
        "tags": [
          "graded"
        ]
      },
      "outputs": [],
      "source": [
        "import tensorflow as tf\n",
        "# GRADED FUNCTION: features_and_labels\n",
        "def features_and_labels(input_sequences, total_words):\n",
        "    \"\"\"\n",
        "    Generates features and labels from n-grams\n",
        "    \n",
        "    Args:\n",
        "        input_sequences (list of int): sequences to split features and labels from\n",
        "        total_words (int): vocabulary size\n",
        "    \n",
        "    Returns:\n",
        "        features, one_hot_labels (array of int, array of int): arrays of features and one-hot encoded labels\n",
        "    \"\"\"\n",
        "    ### START CODE HERE\n",
        "    features = input_sequences[:,:-1]\n",
        "    labels = input_sequences[:,-1]\n",
        "    one_hot_labels = tf.keras.utils.to_categorical(labels, num_classes=total_words)\n",
        "    ### END CODE HERE\n",
        "\n",
        "    return features, one_hot_labels"
      ]
    },
    {
      "cell_type": "code",
      "execution_count": 19,
      "metadata": {
        "id": "23DolaBRaIAZ",
        "tags": [
          "graded"
        ],
        "outputId": "df2c5888-0a3a-46a7-ca24-628b12113f96",
        "colab": {
          "base_uri": "https://localhost:8080/"
        }
      },
      "outputs": [
        {
          "output_type": "stream",
          "name": "stdout",
          "text": [
            "labels have shape: (5, 3211)\n",
            "\n",
            "features look like this:\n",
            "\n"
          ]
        },
        {
          "output_type": "execute_result",
          "data": {
            "text/plain": [
              "array([[  0,   0,   0,  34],\n",
              "       [  0,   0,  34, 417],\n",
              "       [  0,  34, 417, 877],\n",
              "       [ 34, 417, 877, 166],\n",
              "       [417, 877, 166, 213]], dtype=int32)"
            ]
          },
          "metadata": {},
          "execution_count": 19
        }
      ],
      "source": [
        "# Test your function with the padded n_grams_seq of the first example\n",
        "first_features, first_labels = features_and_labels(first_padded_seq, total_words)\n",
        "\n",
        "print(f\"labels have shape: {first_labels.shape}\")\n",
        "print(\"\\nfeatures look like this:\\n\")\n",
        "first_features"
      ]
    },
    {
      "cell_type": "markdown",
      "metadata": {
        "id": "7t4yAx2UaQ43"
      },
      "source": [
        "**Expected Output:**\n",
        "\n",
        "```\n",
        "labels have shape: (5, 3211)\n",
        "\n",
        "features look like this:\n",
        "\n",
        "array([[  0,   0,   0,  34],\n",
        "       [  0,   0,  34, 417],\n",
        "       [  0,  34, 417, 877],\n",
        "       [ 34, 417, 877, 166],\n",
        "       [417, 877, 166, 213]], dtype=int32)\n",
        "```"
      ]
    },
    {
      "cell_type": "code",
      "execution_count": 20,
      "metadata": {
        "id": "GRTuLEt3bRKa",
        "tags": [
          "graded"
        ],
        "outputId": "bba30639-7ead-4733-be15-0e039d1dd743",
        "colab": {
          "base_uri": "https://localhost:8080/"
        }
      },
      "outputs": [
        {
          "output_type": "stream",
          "name": "stdout",
          "text": [
            "features have shape: (15462, 10)\n",
            "labels have shape: (15462, 3211)\n"
          ]
        }
      ],
      "source": [
        "# Split the whole corpus\n",
        "features, labels = features_and_labels(input_sequences, total_words)\n",
        "\n",
        "print(f\"features have shape: {features.shape}\")\n",
        "print(f\"labels have shape: {labels.shape}\")"
      ]
    },
    {
      "cell_type": "markdown",
      "metadata": {
        "id": "xXSMK_HpdLns"
      },
      "source": [
        "**Expected Output:**\n",
        "\n",
        "```\n",
        "features have shape: (15462, 10)\n",
        "labels have shape: (15462, 3211)\n",
        "```"
      ]
    },
    {
      "cell_type": "markdown",
      "metadata": {
        "id": "ltxaOCE_aU6J"
      },
      "source": [
        "## Create the model\n",
        "\n",
        "Now you should define a model architecture capable of achieving an accuracy of at least 80%.\n",
        "\n",
        "Some hints to help you in this task:\n",
        "\n",
        "- An appropriate `output_dim` for the first layer (Embedding) is 100, this is already provided for you.\n",
        "- A Bidirectional LSTM is helpful for this particular problem.\n",
        "- The last layer should have the same number of units as the total number of words in the corpus and a softmax activation function.\n",
        "- This problem can be solved with only two layers (excluding the Embedding) so try out small architectures first."
      ]
    },
    {
      "cell_type": "code",
      "execution_count": 28,
      "metadata": {
        "cellView": "code",
        "id": "XrE6kpJFfvRY",
        "tags": [
          "graded"
        ]
      },
      "outputs": [],
      "source": [
        "# GRADED FUNCTION: create_model\n",
        "def create_model(total_words, max_sequence_len):\n",
        "    \"\"\"\n",
        "    Creates a text generator model\n",
        "    \n",
        "    Args:\n",
        "        total_words (int): size of the vocabulary for the Embedding layer input\n",
        "        max_sequence_len (int): length of the input sequences\n",
        "    \n",
        "    Returns:\n",
        "        model (tf.keras Model): the text generator model\n",
        "    \"\"\"\n",
        "    model = Sequential()\n",
        "    ### START CODE HERE\n",
        "    model.add(Embedding(total_words, 100, input_length=max_sequence_len-1))  #(# Your Embedding Layer)\n",
        "    model.add(Bidirectional(LSTM(250)))  #(# An LSTM Layer)\n",
        "\n",
        "    model.add(Dense(total_words, activation='softmax'))  #(# A Dense Layer)\n",
        "\n",
        "\n",
        "    # Compile the model\n",
        "    model.compile(loss='categorical_crossentropy',\n",
        "                  optimizer=tf.keras.optimizers.Adam(learning_rate=0.01),\n",
        "                  metrics=['accuracy'])\n",
        "    ### END CODE HERE\n",
        "\n",
        "    return model"
      ]
    },
    {
      "cell_type": "code",
      "execution_count": 29,
      "metadata": {
        "id": "0IpX_Gu_gISk",
        "tags": [],
        "outputId": "cdfe2587-0bc6-4bb1-9499-75ea82385fa0",
        "colab": {
          "base_uri": "https://localhost:8080/"
        }
      },
      "outputs": [
        {
          "output_type": "stream",
          "name": "stdout",
          "text": [
            "Epoch 1/500\n",
            "484/484 [==============================] - 6s 8ms/step - loss: 6.7632 - accuracy: 0.0374\n",
            "Epoch 2/500\n",
            "484/484 [==============================] - 4s 8ms/step - loss: 6.0552 - accuracy: 0.0658\n",
            "Epoch 3/500\n",
            "484/484 [==============================] - 4s 8ms/step - loss: 5.2776 - accuracy: 0.0942\n",
            "Epoch 4/500\n",
            "484/484 [==============================] - 4s 8ms/step - loss: 4.3879 - accuracy: 0.1581\n",
            "Epoch 5/500\n",
            "484/484 [==============================] - 4s 8ms/step - loss: 3.4920 - accuracy: 0.2645\n",
            "Epoch 6/500\n",
            "484/484 [==============================] - 4s 8ms/step - loss: 2.8354 - accuracy: 0.3665\n",
            "Epoch 7/500\n",
            "484/484 [==============================] - 4s 8ms/step - loss: 2.3013 - accuracy: 0.4642\n",
            "Epoch 8/500\n",
            "484/484 [==============================] - 4s 7ms/step - loss: 1.9477 - accuracy: 0.5338\n",
            "Epoch 9/500\n",
            "484/484 [==============================] - 4s 8ms/step - loss: 1.6842 - accuracy: 0.5912\n",
            "Epoch 10/500\n",
            "484/484 [==============================] - 4s 8ms/step - loss: 1.6278 - accuracy: 0.5942\n",
            "Epoch 11/500\n",
            "484/484 [==============================] - 4s 8ms/step - loss: 1.5610 - accuracy: 0.6094\n",
            "Epoch 12/500\n",
            "484/484 [==============================] - 4s 8ms/step - loss: 1.5060 - accuracy: 0.6266\n",
            "Epoch 13/500\n",
            "484/484 [==============================] - 4s 7ms/step - loss: 1.4572 - accuracy: 0.6301\n",
            "Epoch 14/500\n",
            "484/484 [==============================] - 4s 8ms/step - loss: 1.4819 - accuracy: 0.6213\n",
            "Epoch 15/500\n",
            "484/484 [==============================] - 4s 8ms/step - loss: 1.3617 - accuracy: 0.6541\n",
            "Epoch 16/500\n",
            "484/484 [==============================] - 4s 8ms/step - loss: 1.3476 - accuracy: 0.6581\n",
            "Epoch 17/500\n",
            "484/484 [==============================] - 4s 8ms/step - loss: 1.2609 - accuracy: 0.6740\n",
            "Epoch 18/500\n",
            "484/484 [==============================] - 4s 8ms/step - loss: 1.2186 - accuracy: 0.6869\n",
            "Epoch 19/500\n",
            "484/484 [==============================] - 4s 8ms/step - loss: 1.2287 - accuracy: 0.6821\n",
            "Epoch 20/500\n",
            "484/484 [==============================] - 4s 7ms/step - loss: 1.3109 - accuracy: 0.6657\n",
            "Epoch 21/500\n",
            "484/484 [==============================] - 4s 7ms/step - loss: 1.3096 - accuracy: 0.6645\n",
            "Epoch 22/500\n",
            "484/484 [==============================] - 4s 7ms/step - loss: 1.3191 - accuracy: 0.6624\n",
            "Epoch 23/500\n",
            "484/484 [==============================] - 4s 7ms/step - loss: 1.2913 - accuracy: 0.6680\n",
            "Epoch 24/500\n",
            "484/484 [==============================] - 4s 8ms/step - loss: 1.1926 - accuracy: 0.6896\n",
            "Epoch 25/500\n",
            "484/484 [==============================] - 4s 7ms/step - loss: 1.1554 - accuracy: 0.7004\n",
            "Epoch 26/500\n",
            "484/484 [==============================] - 4s 7ms/step - loss: 1.2365 - accuracy: 0.6797\n",
            "Epoch 27/500\n",
            "484/484 [==============================] - 4s 8ms/step - loss: 1.2496 - accuracy: 0.6788\n",
            "Epoch 28/500\n",
            "484/484 [==============================] - 4s 8ms/step - loss: 1.2382 - accuracy: 0.6798\n",
            "Epoch 29/500\n",
            "484/484 [==============================] - 4s 7ms/step - loss: 1.2787 - accuracy: 0.6655\n",
            "Epoch 30/500\n",
            "484/484 [==============================] - 4s 7ms/step - loss: 1.2134 - accuracy: 0.6848\n",
            "Epoch 31/500\n",
            "484/484 [==============================] - 4s 8ms/step - loss: 1.1325 - accuracy: 0.7024\n",
            "Epoch 32/500\n",
            "484/484 [==============================] - 4s 8ms/step - loss: 1.1669 - accuracy: 0.7006\n",
            "Epoch 33/500\n",
            "484/484 [==============================] - 4s 8ms/step - loss: 1.1690 - accuracy: 0.6967\n",
            "Epoch 34/500\n",
            "484/484 [==============================] - 4s 8ms/step - loss: 1.1434 - accuracy: 0.7039\n",
            "Epoch 35/500\n",
            "484/484 [==============================] - 4s 8ms/step - loss: 1.2127 - accuracy: 0.6883\n",
            "Epoch 36/500\n",
            "484/484 [==============================] - 4s 8ms/step - loss: 1.1957 - accuracy: 0.6903\n",
            "Epoch 37/500\n",
            "484/484 [==============================] - 4s 7ms/step - loss: 1.2369 - accuracy: 0.6845\n",
            "Epoch 38/500\n",
            "484/484 [==============================] - 4s 8ms/step - loss: 1.1969 - accuracy: 0.6925\n",
            "Epoch 39/500\n",
            "484/484 [==============================] - 4s 8ms/step - loss: 1.1884 - accuracy: 0.6909\n",
            "Epoch 40/500\n",
            "484/484 [==============================] - 4s 8ms/step - loss: 1.1525 - accuracy: 0.7015\n",
            "Epoch 41/500\n",
            "484/484 [==============================] - 4s 7ms/step - loss: 1.1476 - accuracy: 0.7070\n",
            "Epoch 42/500\n",
            "484/484 [==============================] - 4s 7ms/step - loss: 1.1433 - accuracy: 0.7044\n",
            "Epoch 43/500\n",
            "484/484 [==============================] - 4s 7ms/step - loss: 1.1871 - accuracy: 0.6934\n",
            "Epoch 44/500\n",
            "484/484 [==============================] - 4s 8ms/step - loss: 1.1966 - accuracy: 0.6912\n",
            "Epoch 45/500\n",
            "484/484 [==============================] - 4s 7ms/step - loss: 1.1625 - accuracy: 0.6991\n",
            "Epoch 46/500\n",
            "484/484 [==============================] - 4s 7ms/step - loss: 1.1680 - accuracy: 0.6973\n",
            "Epoch 47/500\n",
            "484/484 [==============================] - 4s 8ms/step - loss: 1.0983 - accuracy: 0.7177\n",
            "Epoch 48/500\n",
            "484/484 [==============================] - 4s 7ms/step - loss: 1.1082 - accuracy: 0.7159\n",
            "Epoch 49/500\n",
            "484/484 [==============================] - 4s 7ms/step - loss: 1.1681 - accuracy: 0.7004\n",
            "Epoch 50/500\n",
            "484/484 [==============================] - 4s 8ms/step - loss: 1.1911 - accuracy: 0.6996\n",
            "Epoch 51/500\n",
            "484/484 [==============================] - 4s 8ms/step - loss: 1.2172 - accuracy: 0.6925\n",
            "Epoch 52/500\n",
            "484/484 [==============================] - 4s 8ms/step - loss: 1.2261 - accuracy: 0.6886\n",
            "Epoch 53/500\n",
            "484/484 [==============================] - 4s 8ms/step - loss: 1.2104 - accuracy: 0.6912\n",
            "Epoch 54/500\n",
            "484/484 [==============================] - 4s 8ms/step - loss: 1.1589 - accuracy: 0.7033\n",
            "Epoch 55/500\n",
            "484/484 [==============================] - 4s 8ms/step - loss: 1.1856 - accuracy: 0.7021\n",
            "Epoch 56/500\n",
            "484/484 [==============================] - 4s 7ms/step - loss: 1.2614 - accuracy: 0.6885\n",
            "Epoch 57/500\n",
            "484/484 [==============================] - 4s 8ms/step - loss: 1.2132 - accuracy: 0.6933\n",
            "Epoch 58/500\n",
            "484/484 [==============================] - 4s 7ms/step - loss: 1.2226 - accuracy: 0.6919\n",
            "Epoch 59/500\n",
            "484/484 [==============================] - 4s 7ms/step - loss: 1.1434 - accuracy: 0.7098\n",
            "Epoch 60/500\n",
            "484/484 [==============================] - 4s 8ms/step - loss: 1.1308 - accuracy: 0.7108\n",
            "Epoch 61/500\n",
            "484/484 [==============================] - 4s 7ms/step - loss: 1.1680 - accuracy: 0.6996\n",
            "Epoch 62/500\n",
            "484/484 [==============================] - 4s 7ms/step - loss: 1.2363 - accuracy: 0.6910\n",
            "Epoch 63/500\n",
            "484/484 [==============================] - 4s 7ms/step - loss: 1.1651 - accuracy: 0.7018\n",
            "Epoch 64/500\n",
            "484/484 [==============================] - 4s 7ms/step - loss: 1.1062 - accuracy: 0.7138\n",
            "Epoch 65/500\n",
            "484/484 [==============================] - 4s 7ms/step - loss: 1.0686 - accuracy: 0.7262\n",
            "Epoch 66/500\n",
            "484/484 [==============================] - 4s 7ms/step - loss: 1.0703 - accuracy: 0.7220\n",
            "Epoch 67/500\n",
            "484/484 [==============================] - 4s 7ms/step - loss: 1.0676 - accuracy: 0.7239\n",
            "Epoch 68/500\n",
            "484/484 [==============================] - 4s 8ms/step - loss: 1.0915 - accuracy: 0.7186\n",
            "Epoch 69/500\n",
            "484/484 [==============================] - 4s 8ms/step - loss: 1.1087 - accuracy: 0.7181\n",
            "Epoch 70/500\n",
            "484/484 [==============================] - 4s 8ms/step - loss: 1.1029 - accuracy: 0.7152\n",
            "Epoch 71/500\n",
            "484/484 [==============================] - 4s 7ms/step - loss: 1.1198 - accuracy: 0.7152\n",
            "Epoch 72/500\n",
            "484/484 [==============================] - 4s 8ms/step - loss: 1.1317 - accuracy: 0.7077\n",
            "Epoch 73/500\n",
            "484/484 [==============================] - 4s 7ms/step - loss: 1.1322 - accuracy: 0.7121\n",
            "Epoch 74/500\n",
            "484/484 [==============================] - 4s 7ms/step - loss: 1.0907 - accuracy: 0.7187\n",
            "Epoch 75/500\n",
            "484/484 [==============================] - 4s 8ms/step - loss: 1.1245 - accuracy: 0.7166\n",
            "Epoch 76/500\n",
            "484/484 [==============================] - 4s 8ms/step - loss: 1.1242 - accuracy: 0.7112\n",
            "Epoch 77/500\n",
            "484/484 [==============================] - 4s 7ms/step - loss: 1.1723 - accuracy: 0.7059\n",
            "Epoch 78/500\n",
            "484/484 [==============================] - 4s 8ms/step - loss: 1.1276 - accuracy: 0.7123\n",
            "Epoch 79/500\n",
            "484/484 [==============================] - 4s 8ms/step - loss: 1.1435 - accuracy: 0.7099\n",
            "Epoch 80/500\n",
            "484/484 [==============================] - 4s 9ms/step - loss: 1.0861 - accuracy: 0.7205\n",
            "Epoch 81/500\n",
            "484/484 [==============================] - 4s 8ms/step - loss: 1.0283 - accuracy: 0.7360\n",
            "Epoch 82/500\n",
            "484/484 [==============================] - 4s 8ms/step - loss: 1.0653 - accuracy: 0.7282\n",
            "Epoch 83/500\n",
            "484/484 [==============================] - 4s 8ms/step - loss: 1.1193 - accuracy: 0.7168\n",
            "Epoch 84/500\n",
            "484/484 [==============================] - 4s 8ms/step - loss: 1.1150 - accuracy: 0.7134\n",
            "Epoch 85/500\n",
            "484/484 [==============================] - 4s 8ms/step - loss: 1.0954 - accuracy: 0.7159\n",
            "Epoch 86/500\n",
            "484/484 [==============================] - 4s 8ms/step - loss: 1.1066 - accuracy: 0.7185\n",
            "Epoch 87/500\n",
            "484/484 [==============================] - 4s 8ms/step - loss: 1.1040 - accuracy: 0.7193\n",
            "Epoch 88/500\n",
            "484/484 [==============================] - 4s 8ms/step - loss: 1.0843 - accuracy: 0.7239\n",
            "Epoch 89/500\n",
            "484/484 [==============================] - 4s 8ms/step - loss: 1.0436 - accuracy: 0.7322\n",
            "Epoch 90/500\n",
            "484/484 [==============================] - 4s 8ms/step - loss: 1.0206 - accuracy: 0.7363\n",
            "Epoch 91/500\n",
            "484/484 [==============================] - 4s 8ms/step - loss: 1.0018 - accuracy: 0.7429\n",
            "Epoch 92/500\n",
            "484/484 [==============================] - 4s 8ms/step - loss: 1.0641 - accuracy: 0.7313\n",
            "Epoch 93/500\n",
            "484/484 [==============================] - 4s 8ms/step - loss: 1.1234 - accuracy: 0.7110\n",
            "Epoch 94/500\n",
            "484/484 [==============================] - 4s 8ms/step - loss: 1.1519 - accuracy: 0.7108\n",
            "Epoch 95/500\n",
            "484/484 [==============================] - 4s 8ms/step - loss: 1.1153 - accuracy: 0.7187\n",
            "Epoch 96/500\n",
            "484/484 [==============================] - 4s 8ms/step - loss: 1.0654 - accuracy: 0.7303\n",
            "Epoch 97/500\n",
            "484/484 [==============================] - 4s 8ms/step - loss: 0.9743 - accuracy: 0.7478\n",
            "Epoch 98/500\n",
            "484/484 [==============================] - 4s 7ms/step - loss: 0.9747 - accuracy: 0.7491\n",
            "Epoch 99/500\n",
            "484/484 [==============================] - 4s 8ms/step - loss: 1.0215 - accuracy: 0.7386\n",
            "Epoch 100/500\n",
            "484/484 [==============================] - 4s 8ms/step - loss: 1.0255 - accuracy: 0.7364\n",
            "Epoch 101/500\n",
            "484/484 [==============================] - 4s 7ms/step - loss: 1.0558 - accuracy: 0.7314\n",
            "Epoch 102/500\n",
            "484/484 [==============================] - 4s 8ms/step - loss: 1.0894 - accuracy: 0.7277\n",
            "Epoch 103/500\n",
            "484/484 [==============================] - 4s 7ms/step - loss: 1.0966 - accuracy: 0.7262\n",
            "Epoch 104/500\n",
            "484/484 [==============================] - 4s 8ms/step - loss: 1.0708 - accuracy: 0.7287\n",
            "Epoch 105/500\n",
            "484/484 [==============================] - 4s 8ms/step - loss: 1.0670 - accuracy: 0.7313\n",
            "Epoch 106/500\n",
            "484/484 [==============================] - 4s 7ms/step - loss: 1.0181 - accuracy: 0.7438\n",
            "Epoch 107/500\n",
            "484/484 [==============================] - 4s 8ms/step - loss: 0.9970 - accuracy: 0.7459\n",
            "Epoch 108/500\n",
            "484/484 [==============================] - 4s 8ms/step - loss: 1.0308 - accuracy: 0.7376\n",
            "Epoch 109/500\n",
            "484/484 [==============================] - 4s 8ms/step - loss: 1.0333 - accuracy: 0.7350\n",
            "Epoch 110/500\n",
            "484/484 [==============================] - 4s 8ms/step - loss: 1.0357 - accuracy: 0.7335\n",
            "Epoch 111/500\n",
            "484/484 [==============================] - 4s 8ms/step - loss: 1.0283 - accuracy: 0.7362\n",
            "Epoch 112/500\n",
            "484/484 [==============================] - 4s 8ms/step - loss: 1.0102 - accuracy: 0.7415\n",
            "Epoch 113/500\n",
            "484/484 [==============================] - 4s 7ms/step - loss: 1.0225 - accuracy: 0.7389\n",
            "Epoch 114/500\n",
            "484/484 [==============================] - 4s 7ms/step - loss: 1.0833 - accuracy: 0.7294\n",
            "Epoch 115/500\n",
            "484/484 [==============================] - 4s 7ms/step - loss: 1.0734 - accuracy: 0.7273\n",
            "Epoch 116/500\n",
            "484/484 [==============================] - 4s 8ms/step - loss: 1.0497 - accuracy: 0.7321\n",
            "Epoch 117/500\n",
            "484/484 [==============================] - 4s 8ms/step - loss: 1.0440 - accuracy: 0.7356\n",
            "Epoch 118/500\n",
            "484/484 [==============================] - 4s 7ms/step - loss: 1.0100 - accuracy: 0.7422\n",
            "Epoch 119/500\n",
            "484/484 [==============================] - 4s 8ms/step - loss: 0.9888 - accuracy: 0.7468\n",
            "Epoch 120/500\n",
            "484/484 [==============================] - 4s 8ms/step - loss: 1.0524 - accuracy: 0.7315\n",
            "Epoch 121/500\n",
            "484/484 [==============================] - 4s 7ms/step - loss: 1.0614 - accuracy: 0.7332\n",
            "Epoch 122/500\n",
            "484/484 [==============================] - 4s 8ms/step - loss: 1.0413 - accuracy: 0.7377\n",
            "Epoch 123/500\n",
            "484/484 [==============================] - 4s 7ms/step - loss: 1.0486 - accuracy: 0.7348\n",
            "Epoch 124/500\n",
            "484/484 [==============================] - 4s 8ms/step - loss: 1.1027 - accuracy: 0.7259\n",
            "Epoch 125/500\n",
            "484/484 [==============================] - 4s 8ms/step - loss: 1.1529 - accuracy: 0.7136\n",
            "Epoch 126/500\n",
            "484/484 [==============================] - 4s 8ms/step - loss: 1.0715 - accuracy: 0.7352\n",
            "Epoch 127/500\n",
            "484/484 [==============================] - 4s 7ms/step - loss: 0.9975 - accuracy: 0.7507\n",
            "Epoch 128/500\n",
            "484/484 [==============================] - 4s 8ms/step - loss: 1.0117 - accuracy: 0.7439\n",
            "Epoch 129/500\n",
            "484/484 [==============================] - 4s 8ms/step - loss: 0.9913 - accuracy: 0.7507\n",
            "Epoch 130/500\n",
            "484/484 [==============================] - 4s 8ms/step - loss: 0.9952 - accuracy: 0.7527\n",
            "Epoch 131/500\n",
            "484/484 [==============================] - 4s 7ms/step - loss: 0.9859 - accuracy: 0.7509\n",
            "Epoch 132/500\n",
            "484/484 [==============================] - 4s 8ms/step - loss: 1.0466 - accuracy: 0.7412\n",
            "Epoch 133/500\n",
            "484/484 [==============================] - 4s 8ms/step - loss: 1.0809 - accuracy: 0.7348\n",
            "Epoch 134/500\n",
            "484/484 [==============================] - 4s 7ms/step - loss: 1.0783 - accuracy: 0.7275\n",
            "Epoch 135/500\n",
            "484/484 [==============================] - 4s 8ms/step - loss: 1.0443 - accuracy: 0.7368\n",
            "Epoch 136/500\n",
            "484/484 [==============================] - 4s 7ms/step - loss: 0.9996 - accuracy: 0.7474\n",
            "Epoch 137/500\n",
            "484/484 [==============================] - 4s 8ms/step - loss: 0.9950 - accuracy: 0.7517\n",
            "Epoch 138/500\n",
            "484/484 [==============================] - 4s 8ms/step - loss: 0.9660 - accuracy: 0.7575\n",
            "Epoch 139/500\n",
            "484/484 [==============================] - 4s 8ms/step - loss: 0.9755 - accuracy: 0.7542\n",
            "Epoch 140/500\n",
            "484/484 [==============================] - 4s 7ms/step - loss: 0.9970 - accuracy: 0.7546\n",
            "Epoch 141/500\n",
            "484/484 [==============================] - 4s 7ms/step - loss: 1.0524 - accuracy: 0.7383\n",
            "Epoch 142/500\n",
            "484/484 [==============================] - 4s 7ms/step - loss: 1.0794 - accuracy: 0.7343\n",
            "Epoch 143/500\n",
            "484/484 [==============================] - 4s 8ms/step - loss: 1.0869 - accuracy: 0.7319\n",
            "Epoch 144/500\n",
            "484/484 [==============================] - 4s 7ms/step - loss: 1.1055 - accuracy: 0.7296\n",
            "Epoch 145/500\n",
            "484/484 [==============================] - 4s 9ms/step - loss: 1.0727 - accuracy: 0.7346\n",
            "Epoch 146/500\n",
            "484/484 [==============================] - 4s 8ms/step - loss: 1.0090 - accuracy: 0.7452\n",
            "Epoch 147/500\n",
            "484/484 [==============================] - 4s 7ms/step - loss: 1.0275 - accuracy: 0.7439\n",
            "Epoch 148/500\n",
            "484/484 [==============================] - 4s 7ms/step - loss: 1.0136 - accuracy: 0.7469\n",
            "Epoch 149/500\n",
            "484/484 [==============================] - 4s 8ms/step - loss: 1.0234 - accuracy: 0.7438\n",
            "Epoch 150/500\n",
            "484/484 [==============================] - 4s 8ms/step - loss: 1.0075 - accuracy: 0.7488\n",
            "Epoch 151/500\n",
            "484/484 [==============================] - 4s 8ms/step - loss: 1.0279 - accuracy: 0.7438\n",
            "Epoch 152/500\n",
            "484/484 [==============================] - 4s 8ms/step - loss: 0.9789 - accuracy: 0.7529\n",
            "Epoch 153/500\n",
            "484/484 [==============================] - 4s 8ms/step - loss: 0.9635 - accuracy: 0.7590\n",
            "Epoch 154/500\n",
            "484/484 [==============================] - 4s 8ms/step - loss: 1.0008 - accuracy: 0.7506\n",
            "Epoch 155/500\n",
            "484/484 [==============================] - 4s 7ms/step - loss: 1.0150 - accuracy: 0.7456\n",
            "Epoch 156/500\n",
            "484/484 [==============================] - 4s 8ms/step - loss: 1.0034 - accuracy: 0.7467\n",
            "Epoch 157/500\n",
            "484/484 [==============================] - 4s 7ms/step - loss: 1.0154 - accuracy: 0.7474\n",
            "Epoch 158/500\n",
            "484/484 [==============================] - 4s 8ms/step - loss: 0.9946 - accuracy: 0.7532\n",
            "Epoch 159/500\n",
            "484/484 [==============================] - 4s 8ms/step - loss: 1.0558 - accuracy: 0.7410\n",
            "Epoch 160/500\n",
            "484/484 [==============================] - 4s 8ms/step - loss: 1.0058 - accuracy: 0.7482\n",
            "Epoch 161/500\n",
            "484/484 [==============================] - 4s 7ms/step - loss: 1.0057 - accuracy: 0.7485\n",
            "Epoch 162/500\n",
            "484/484 [==============================] - 4s 8ms/step - loss: 0.9812 - accuracy: 0.7520\n",
            "Epoch 163/500\n",
            "484/484 [==============================] - 4s 8ms/step - loss: 0.9938 - accuracy: 0.7525\n",
            "Epoch 164/500\n",
            "484/484 [==============================] - 4s 7ms/step - loss: 1.1742 - accuracy: 0.7247\n",
            "Epoch 165/500\n",
            "484/484 [==============================] - 4s 8ms/step - loss: 1.0068 - accuracy: 0.7505\n",
            "Epoch 166/500\n",
            "484/484 [==============================] - 4s 8ms/step - loss: 0.9793 - accuracy: 0.7560\n",
            "Epoch 167/500\n",
            "484/484 [==============================] - 4s 8ms/step - loss: 0.9881 - accuracy: 0.7527\n",
            "Epoch 168/500\n",
            "484/484 [==============================] - 4s 8ms/step - loss: 0.9533 - accuracy: 0.7590\n",
            "Epoch 169/500\n",
            "484/484 [==============================] - 4s 8ms/step - loss: 0.9672 - accuracy: 0.7582\n",
            "Epoch 170/500\n",
            "484/484 [==============================] - 4s 8ms/step - loss: 0.9891 - accuracy: 0.7533\n",
            "Epoch 171/500\n",
            "484/484 [==============================] - 4s 8ms/step - loss: 0.9865 - accuracy: 0.7549\n",
            "Epoch 172/500\n",
            "484/484 [==============================] - 4s 7ms/step - loss: 0.9893 - accuracy: 0.7527\n",
            "Epoch 173/500\n",
            "484/484 [==============================] - 4s 8ms/step - loss: 0.9681 - accuracy: 0.7606\n",
            "Epoch 174/500\n",
            "484/484 [==============================] - 4s 8ms/step - loss: 0.9717 - accuracy: 0.7587\n",
            "Epoch 175/500\n",
            "484/484 [==============================] - 4s 7ms/step - loss: 0.9605 - accuracy: 0.7573\n",
            "Epoch 176/500\n",
            "484/484 [==============================] - 4s 8ms/step - loss: 0.9622 - accuracy: 0.7597\n",
            "Epoch 177/500\n",
            "484/484 [==============================] - 4s 8ms/step - loss: 0.9906 - accuracy: 0.7577\n",
            "Epoch 178/500\n",
            "484/484 [==============================] - 4s 8ms/step - loss: 0.9674 - accuracy: 0.7621\n",
            "Epoch 179/500\n",
            "484/484 [==============================] - 4s 8ms/step - loss: 0.9551 - accuracy: 0.7629\n",
            "Epoch 180/500\n",
            "484/484 [==============================] - 4s 7ms/step - loss: 0.9691 - accuracy: 0.7586\n",
            "Epoch 181/500\n",
            "484/484 [==============================] - 4s 8ms/step - loss: 0.9675 - accuracy: 0.7561\n",
            "Epoch 182/500\n",
            "484/484 [==============================] - 4s 8ms/step - loss: 0.9565 - accuracy: 0.7573\n",
            "Epoch 183/500\n",
            "484/484 [==============================] - 4s 7ms/step - loss: 0.9977 - accuracy: 0.7536\n",
            "Epoch 184/500\n",
            "484/484 [==============================] - 4s 8ms/step - loss: 0.9948 - accuracy: 0.7579\n",
            "Epoch 185/500\n",
            "484/484 [==============================] - 4s 8ms/step - loss: 0.9677 - accuracy: 0.7597\n",
            "Epoch 186/500\n",
            "484/484 [==============================] - 4s 8ms/step - loss: 0.9406 - accuracy: 0.7636\n",
            "Epoch 187/500\n",
            "484/484 [==============================] - 4s 8ms/step - loss: 0.9228 - accuracy: 0.7690\n",
            "Epoch 188/500\n",
            "484/484 [==============================] - 4s 8ms/step - loss: 0.9417 - accuracy: 0.7629\n",
            "Epoch 189/500\n",
            "484/484 [==============================] - 4s 8ms/step - loss: 0.9551 - accuracy: 0.7659\n",
            "Epoch 190/500\n",
            "484/484 [==============================] - 4s 8ms/step - loss: 0.9491 - accuracy: 0.7679\n",
            "Epoch 191/500\n",
            "484/484 [==============================] - 4s 8ms/step - loss: 0.9704 - accuracy: 0.7597\n",
            "Epoch 192/500\n",
            "484/484 [==============================] - 4s 8ms/step - loss: 0.9527 - accuracy: 0.7639\n",
            "Epoch 193/500\n",
            "484/484 [==============================] - 4s 7ms/step - loss: 0.9377 - accuracy: 0.7639\n",
            "Epoch 194/500\n",
            "484/484 [==============================] - 4s 7ms/step - loss: 0.9252 - accuracy: 0.7665\n",
            "Epoch 195/500\n",
            "484/484 [==============================] - 4s 8ms/step - loss: 0.9810 - accuracy: 0.7585\n",
            "Epoch 196/500\n",
            "484/484 [==============================] - 4s 8ms/step - loss: 0.9689 - accuracy: 0.7643\n",
            "Epoch 197/500\n",
            "484/484 [==============================] - 4s 8ms/step - loss: 0.9549 - accuracy: 0.7619\n",
            "Epoch 198/500\n",
            "484/484 [==============================] - 4s 7ms/step - loss: 0.9736 - accuracy: 0.7588\n",
            "Epoch 199/500\n",
            "484/484 [==============================] - 4s 8ms/step - loss: 1.0193 - accuracy: 0.7550\n",
            "Epoch 200/500\n",
            "484/484 [==============================] - 4s 8ms/step - loss: 1.0260 - accuracy: 0.7573\n",
            "Epoch 201/500\n",
            "484/484 [==============================] - 4s 8ms/step - loss: 0.9722 - accuracy: 0.7643\n",
            "Epoch 202/500\n",
            "484/484 [==============================] - 4s 8ms/step - loss: 0.9675 - accuracy: 0.7615\n",
            "Epoch 203/500\n",
            "484/484 [==============================] - 4s 8ms/step - loss: 0.9760 - accuracy: 0.7624\n",
            "Epoch 204/500\n",
            "484/484 [==============================] - 4s 7ms/step - loss: 0.9729 - accuracy: 0.7640\n",
            "Epoch 205/500\n",
            "484/484 [==============================] - 4s 7ms/step - loss: 0.9816 - accuracy: 0.7608\n",
            "Epoch 206/500\n",
            "484/484 [==============================] - 4s 8ms/step - loss: 0.9672 - accuracy: 0.7620\n",
            "Epoch 207/500\n",
            "484/484 [==============================] - 4s 8ms/step - loss: 0.9599 - accuracy: 0.7632\n",
            "Epoch 208/500\n",
            "484/484 [==============================] - 4s 8ms/step - loss: 0.9563 - accuracy: 0.7656\n",
            "Epoch 209/500\n",
            "484/484 [==============================] - 4s 8ms/step - loss: 0.9364 - accuracy: 0.7684\n",
            "Epoch 210/500\n",
            "484/484 [==============================] - 4s 8ms/step - loss: 0.9275 - accuracy: 0.7713\n",
            "Epoch 211/500\n",
            "484/484 [==============================] - 4s 8ms/step - loss: 0.9360 - accuracy: 0.7722\n",
            "Epoch 212/500\n",
            "484/484 [==============================] - 4s 7ms/step - loss: 0.9623 - accuracy: 0.7633\n",
            "Epoch 213/500\n",
            "484/484 [==============================] - 4s 8ms/step - loss: 1.0291 - accuracy: 0.7526\n",
            "Epoch 214/500\n",
            "484/484 [==============================] - 4s 8ms/step - loss: 1.0235 - accuracy: 0.7559\n",
            "Epoch 215/500\n",
            "484/484 [==============================] - 4s 8ms/step - loss: 0.9615 - accuracy: 0.7636\n",
            "Epoch 216/500\n",
            "484/484 [==============================] - 4s 8ms/step - loss: 0.9402 - accuracy: 0.7705\n",
            "Epoch 217/500\n",
            "484/484 [==============================] - 4s 7ms/step - loss: 0.9324 - accuracy: 0.7714\n",
            "Epoch 218/500\n",
            "484/484 [==============================] - 4s 7ms/step - loss: 0.9795 - accuracy: 0.7657\n",
            "Epoch 219/500\n",
            "484/484 [==============================] - 4s 8ms/step - loss: 1.0226 - accuracy: 0.7579\n",
            "Epoch 220/500\n",
            "484/484 [==============================] - 4s 8ms/step - loss: 0.9860 - accuracy: 0.7628\n",
            "Epoch 221/500\n",
            "484/484 [==============================] - 4s 8ms/step - loss: 0.9574 - accuracy: 0.7697\n",
            "Epoch 222/500\n",
            "484/484 [==============================] - 4s 8ms/step - loss: 0.9179 - accuracy: 0.7777\n",
            "Epoch 223/500\n",
            "484/484 [==============================] - 4s 8ms/step - loss: 0.8814 - accuracy: 0.7837\n",
            "Epoch 224/500\n",
            "484/484 [==============================] - 4s 8ms/step - loss: 0.9337 - accuracy: 0.7738\n",
            "Epoch 225/500\n",
            "484/484 [==============================] - 4s 8ms/step - loss: 0.9618 - accuracy: 0.7637\n",
            "Epoch 226/500\n",
            "484/484 [==============================] - 4s 8ms/step - loss: 0.9834 - accuracy: 0.7579\n",
            "Epoch 227/500\n",
            "484/484 [==============================] - 4s 8ms/step - loss: 0.9330 - accuracy: 0.7735\n",
            "Epoch 228/500\n",
            "484/484 [==============================] - 4s 8ms/step - loss: 0.9413 - accuracy: 0.7712\n",
            "Epoch 229/500\n",
            "484/484 [==============================] - 4s 8ms/step - loss: 0.9678 - accuracy: 0.7657\n",
            "Epoch 230/500\n",
            "484/484 [==============================] - 4s 8ms/step - loss: 0.9596 - accuracy: 0.7670\n",
            "Epoch 231/500\n",
            "484/484 [==============================] - 4s 8ms/step - loss: 0.9359 - accuracy: 0.7694\n",
            "Epoch 232/500\n",
            "484/484 [==============================] - 4s 8ms/step - loss: 0.9253 - accuracy: 0.7747\n",
            "Epoch 233/500\n",
            "484/484 [==============================] - 4s 8ms/step - loss: 0.9122 - accuracy: 0.7762\n",
            "Epoch 234/500\n",
            "484/484 [==============================] - 4s 8ms/step - loss: 0.9272 - accuracy: 0.7712\n",
            "Epoch 235/500\n",
            "484/484 [==============================] - 4s 8ms/step - loss: 0.9708 - accuracy: 0.7621\n",
            "Epoch 236/500\n",
            "484/484 [==============================] - 4s 8ms/step - loss: 0.9590 - accuracy: 0.7650\n",
            "Epoch 237/500\n",
            "484/484 [==============================] - 4s 8ms/step - loss: 0.9234 - accuracy: 0.7736\n",
            "Epoch 238/500\n",
            "484/484 [==============================] - 4s 8ms/step - loss: 0.8946 - accuracy: 0.7772\n",
            "Epoch 239/500\n",
            "484/484 [==============================] - 4s 8ms/step - loss: 0.9046 - accuracy: 0.7783\n",
            "Epoch 240/500\n",
            "484/484 [==============================] - 4s 7ms/step - loss: 0.9031 - accuracy: 0.7824\n",
            "Epoch 241/500\n",
            "484/484 [==============================] - 4s 8ms/step - loss: 0.9495 - accuracy: 0.7701\n",
            "Epoch 242/500\n",
            "484/484 [==============================] - 4s 8ms/step - loss: 0.9379 - accuracy: 0.7705\n",
            "Epoch 243/500\n",
            "484/484 [==============================] - 4s 8ms/step - loss: 0.9695 - accuracy: 0.7678\n",
            "Epoch 244/500\n",
            "484/484 [==============================] - 4s 7ms/step - loss: 0.9283 - accuracy: 0.7756\n",
            "Epoch 245/500\n",
            "484/484 [==============================] - 4s 8ms/step - loss: 0.9164 - accuracy: 0.7782\n",
            "Epoch 246/500\n",
            "484/484 [==============================] - 4s 8ms/step - loss: 0.9385 - accuracy: 0.7723\n",
            "Epoch 247/500\n",
            "484/484 [==============================] - 4s 8ms/step - loss: 0.8992 - accuracy: 0.7817\n",
            "Epoch 248/500\n",
            "484/484 [==============================] - 4s 8ms/step - loss: 0.9438 - accuracy: 0.7740\n",
            "Epoch 249/500\n",
            "484/484 [==============================] - 4s 8ms/step - loss: 0.9329 - accuracy: 0.7735\n",
            "Epoch 250/500\n",
            "484/484 [==============================] - 4s 8ms/step - loss: 0.9512 - accuracy: 0.7719\n",
            "Epoch 251/500\n",
            "484/484 [==============================] - 4s 8ms/step - loss: 0.9411 - accuracy: 0.7715\n",
            "Epoch 252/500\n",
            "484/484 [==============================] - 4s 8ms/step - loss: 0.9060 - accuracy: 0.7802\n",
            "Epoch 253/500\n",
            "484/484 [==============================] - 4s 8ms/step - loss: 0.9029 - accuracy: 0.7814\n",
            "Epoch 254/500\n",
            "484/484 [==============================] - 4s 8ms/step - loss: 0.9298 - accuracy: 0.7741\n",
            "Epoch 255/500\n",
            "484/484 [==============================] - 4s 8ms/step - loss: 0.8943 - accuracy: 0.7797\n",
            "Epoch 256/500\n",
            "484/484 [==============================] - 4s 8ms/step - loss: 0.9169 - accuracy: 0.7788\n",
            "Epoch 257/500\n",
            "484/484 [==============================] - 4s 8ms/step - loss: 0.8904 - accuracy: 0.7855\n",
            "Epoch 258/500\n",
            "484/484 [==============================] - 4s 8ms/step - loss: 0.8603 - accuracy: 0.7891\n",
            "Epoch 259/500\n",
            "484/484 [==============================] - 4s 8ms/step - loss: 0.8378 - accuracy: 0.7945\n",
            "Epoch 260/500\n",
            "484/484 [==============================] - 4s 8ms/step - loss: 0.8393 - accuracy: 0.7935\n",
            "Epoch 261/500\n",
            "484/484 [==============================] - 4s 8ms/step - loss: 0.8787 - accuracy: 0.7866\n",
            "Epoch 262/500\n",
            "484/484 [==============================] - 4s 8ms/step - loss: 0.9564 - accuracy: 0.7694\n",
            "Epoch 263/500\n",
            "484/484 [==============================] - 4s 8ms/step - loss: 0.9851 - accuracy: 0.7665\n",
            "Epoch 264/500\n",
            "484/484 [==============================] - 4s 8ms/step - loss: 0.9848 - accuracy: 0.7632\n",
            "Epoch 265/500\n",
            "484/484 [==============================] - 4s 8ms/step - loss: 0.9997 - accuracy: 0.7614\n",
            "Epoch 266/500\n",
            "484/484 [==============================] - 4s 8ms/step - loss: 1.0261 - accuracy: 0.7584\n",
            "Epoch 267/500\n",
            "484/484 [==============================] - 4s 8ms/step - loss: 0.9757 - accuracy: 0.7685\n",
            "Epoch 268/500\n",
            "484/484 [==============================] - 4s 8ms/step - loss: 0.9612 - accuracy: 0.7703\n",
            "Epoch 269/500\n",
            "484/484 [==============================] - 4s 8ms/step - loss: 0.9481 - accuracy: 0.7734\n",
            "Epoch 270/500\n",
            "484/484 [==============================] - 4s 8ms/step - loss: 0.9066 - accuracy: 0.7791\n",
            "Epoch 271/500\n",
            "484/484 [==============================] - 4s 8ms/step - loss: 0.8720 - accuracy: 0.7868\n",
            "Epoch 272/500\n",
            "484/484 [==============================] - 4s 8ms/step - loss: 0.9325 - accuracy: 0.7782\n",
            "Epoch 273/500\n",
            "484/484 [==============================] - 4s 8ms/step - loss: 0.9443 - accuracy: 0.7721\n",
            "Epoch 274/500\n",
            "484/484 [==============================] - 4s 9ms/step - loss: 0.9455 - accuracy: 0.7733\n",
            "Epoch 275/500\n",
            "484/484 [==============================] - 4s 8ms/step - loss: 0.9100 - accuracy: 0.7799\n",
            "Epoch 276/500\n",
            "484/484 [==============================] - 4s 8ms/step - loss: 0.8826 - accuracy: 0.7822\n",
            "Epoch 277/500\n",
            "484/484 [==============================] - 4s 8ms/step - loss: 0.8957 - accuracy: 0.7854\n",
            "Epoch 278/500\n",
            "484/484 [==============================] - 4s 8ms/step - loss: 0.9433 - accuracy: 0.7778\n",
            "Epoch 279/500\n",
            "484/484 [==============================] - 4s 8ms/step - loss: 0.9880 - accuracy: 0.7714\n",
            "Epoch 280/500\n",
            "484/484 [==============================] - 4s 8ms/step - loss: 0.9499 - accuracy: 0.7707\n",
            "Epoch 281/500\n",
            "484/484 [==============================] - 4s 8ms/step - loss: 0.9114 - accuracy: 0.7797\n",
            "Epoch 282/500\n",
            "484/484 [==============================] - 4s 8ms/step - loss: 0.8905 - accuracy: 0.7863\n",
            "Epoch 283/500\n",
            "484/484 [==============================] - 4s 8ms/step - loss: 0.8791 - accuracy: 0.7845\n",
            "Epoch 284/500\n",
            "484/484 [==============================] - 4s 8ms/step - loss: 0.9042 - accuracy: 0.7794\n",
            "Epoch 285/500\n",
            "484/484 [==============================] - 4s 8ms/step - loss: 0.9432 - accuracy: 0.7721\n",
            "Epoch 286/500\n",
            "484/484 [==============================] - 4s 8ms/step - loss: 0.9506 - accuracy: 0.7709\n",
            "Epoch 287/500\n",
            "484/484 [==============================] - 4s 8ms/step - loss: 0.9119 - accuracy: 0.7790\n",
            "Epoch 288/500\n",
            "484/484 [==============================] - 4s 8ms/step - loss: 0.8911 - accuracy: 0.7832\n",
            "Epoch 289/500\n",
            "484/484 [==============================] - 4s 8ms/step - loss: 0.8945 - accuracy: 0.7826\n",
            "Epoch 290/500\n",
            "484/484 [==============================] - 4s 8ms/step - loss: 0.8843 - accuracy: 0.7860\n",
            "Epoch 291/500\n",
            "484/484 [==============================] - 4s 8ms/step - loss: 0.8831 - accuracy: 0.7853\n",
            "Epoch 292/500\n",
            "484/484 [==============================] - 4s 8ms/step - loss: 0.9583 - accuracy: 0.7764\n",
            "Epoch 293/500\n",
            "484/484 [==============================] - 4s 8ms/step - loss: 0.9038 - accuracy: 0.7817\n",
            "Epoch 294/500\n",
            "484/484 [==============================] - 4s 8ms/step - loss: 0.8820 - accuracy: 0.7873\n",
            "Epoch 295/500\n",
            "484/484 [==============================] - 4s 8ms/step - loss: 0.8675 - accuracy: 0.7905\n",
            "Epoch 296/500\n",
            "484/484 [==============================] - 4s 8ms/step - loss: 0.8976 - accuracy: 0.7828\n",
            "Epoch 297/500\n",
            "484/484 [==============================] - 4s 8ms/step - loss: 0.9329 - accuracy: 0.7772\n",
            "Epoch 298/500\n",
            "484/484 [==============================] - 4s 8ms/step - loss: 0.9607 - accuracy: 0.7756\n",
            "Epoch 299/500\n",
            "484/484 [==============================] - 4s 8ms/step - loss: 0.9445 - accuracy: 0.7769\n",
            "Epoch 300/500\n",
            "484/484 [==============================] - 4s 8ms/step - loss: 0.9604 - accuracy: 0.7733\n",
            "Epoch 301/500\n",
            "484/484 [==============================] - 4s 8ms/step - loss: 0.9412 - accuracy: 0.7753\n",
            "Epoch 302/500\n",
            "484/484 [==============================] - 4s 8ms/step - loss: 0.8806 - accuracy: 0.7861\n",
            "Epoch 303/500\n",
            "484/484 [==============================] - 4s 8ms/step - loss: 0.9290 - accuracy: 0.7822\n",
            "Epoch 304/500\n",
            "484/484 [==============================] - 4s 8ms/step - loss: 0.9015 - accuracy: 0.7830\n",
            "Epoch 305/500\n",
            "484/484 [==============================] - 4s 8ms/step - loss: 0.8830 - accuracy: 0.7868\n",
            "Epoch 306/500\n",
            "484/484 [==============================] - 4s 8ms/step - loss: 0.8978 - accuracy: 0.7835\n",
            "Epoch 307/500\n",
            "484/484 [==============================] - 4s 8ms/step - loss: 0.8611 - accuracy: 0.7911\n",
            "Epoch 308/500\n",
            "484/484 [==============================] - 4s 8ms/step - loss: 0.8522 - accuracy: 0.7953\n",
            "Epoch 309/500\n",
            "484/484 [==============================] - 4s 8ms/step - loss: 0.8491 - accuracy: 0.7956\n",
            "Epoch 310/500\n",
            "484/484 [==============================] - 4s 8ms/step - loss: 0.8537 - accuracy: 0.7938\n",
            "Epoch 311/500\n",
            "484/484 [==============================] - 4s 8ms/step - loss: 0.8566 - accuracy: 0.7952\n",
            "Epoch 312/500\n",
            "484/484 [==============================] - 4s 8ms/step - loss: 0.8718 - accuracy: 0.7882\n",
            "Epoch 313/500\n",
            "484/484 [==============================] - 4s 8ms/step - loss: 0.8684 - accuracy: 0.7908\n",
            "Epoch 314/500\n",
            "484/484 [==============================] - 4s 8ms/step - loss: 0.8854 - accuracy: 0.7853\n",
            "Epoch 315/500\n",
            "484/484 [==============================] - 4s 8ms/step - loss: 0.9073 - accuracy: 0.7831\n",
            "Epoch 316/500\n",
            "484/484 [==============================] - 4s 8ms/step - loss: 0.9025 - accuracy: 0.7848\n",
            "Epoch 317/500\n",
            "484/484 [==============================] - 4s 8ms/step - loss: 0.9331 - accuracy: 0.7787\n",
            "Epoch 318/500\n",
            "484/484 [==============================] - 4s 8ms/step - loss: 0.9142 - accuracy: 0.7830\n",
            "Epoch 319/500\n",
            "484/484 [==============================] - 4s 8ms/step - loss: 0.8949 - accuracy: 0.7852\n",
            "Epoch 320/500\n",
            "484/484 [==============================] - 4s 8ms/step - loss: 0.8353 - accuracy: 0.7957\n",
            "Epoch 321/500\n",
            "484/484 [==============================] - 4s 8ms/step - loss: 0.8288 - accuracy: 0.7983\n",
            "Epoch 322/500\n",
            "484/484 [==============================] - 4s 8ms/step - loss: 0.8575 - accuracy: 0.7924\n",
            "Epoch 323/500\n",
            "484/484 [==============================] - 4s 8ms/step - loss: 0.8851 - accuracy: 0.7859\n",
            "Epoch 324/500\n",
            "484/484 [==============================] - 4s 8ms/step - loss: 0.8995 - accuracy: 0.7826\n",
            "Epoch 325/500\n",
            "484/484 [==============================] - 4s 8ms/step - loss: 0.8869 - accuracy: 0.7859\n",
            "Epoch 326/500\n",
            "484/484 [==============================] - 4s 8ms/step - loss: 0.8928 - accuracy: 0.7906\n",
            "Epoch 327/500\n",
            "484/484 [==============================] - 4s 8ms/step - loss: 0.8732 - accuracy: 0.7882\n",
            "Epoch 328/500\n",
            "484/484 [==============================] - 4s 8ms/step - loss: 0.8882 - accuracy: 0.7883\n",
            "Epoch 329/500\n",
            "484/484 [==============================] - 4s 8ms/step - loss: 0.8610 - accuracy: 0.7925\n",
            "Epoch 330/500\n",
            "484/484 [==============================] - 4s 8ms/step - loss: 0.9094 - accuracy: 0.7890\n",
            "Epoch 331/500\n",
            "484/484 [==============================] - 4s 8ms/step - loss: 0.8886 - accuracy: 0.7855\n",
            "Epoch 332/500\n",
            "484/484 [==============================] - 4s 8ms/step - loss: 0.8492 - accuracy: 0.7932\n",
            "Epoch 333/500\n",
            "484/484 [==============================] - 4s 8ms/step - loss: 0.8543 - accuracy: 0.7922\n",
            "Epoch 334/500\n",
            "484/484 [==============================] - 4s 8ms/step - loss: 0.8387 - accuracy: 0.7958\n",
            "Epoch 335/500\n",
            "484/484 [==============================] - 4s 8ms/step - loss: 0.8263 - accuracy: 0.7956\n",
            "Epoch 336/500\n",
            "484/484 [==============================] - 4s 8ms/step - loss: 0.8251 - accuracy: 0.7970\n",
            "Epoch 337/500\n",
            "484/484 [==============================] - 4s 8ms/step - loss: 0.8529 - accuracy: 0.7917\n",
            "Epoch 338/500\n",
            "484/484 [==============================] - 4s 9ms/step - loss: 0.8951 - accuracy: 0.7846\n",
            "Epoch 339/500\n",
            "484/484 [==============================] - 4s 8ms/step - loss: 0.8833 - accuracy: 0.7844\n",
            "Epoch 340/500\n",
            "484/484 [==============================] - 4s 8ms/step - loss: 0.8871 - accuracy: 0.7877\n",
            "Epoch 341/500\n",
            "484/484 [==============================] - 4s 8ms/step - loss: 0.8593 - accuracy: 0.7927\n",
            "Epoch 342/500\n",
            "484/484 [==============================] - 4s 8ms/step - loss: 0.8206 - accuracy: 0.7988\n",
            "Epoch 343/500\n",
            "484/484 [==============================] - 4s 8ms/step - loss: 0.8178 - accuracy: 0.8001\n",
            "Epoch 344/500\n",
            "484/484 [==============================] - 4s 8ms/step - loss: 0.8390 - accuracy: 0.7960\n",
            "Epoch 345/500\n",
            "484/484 [==============================] - 4s 8ms/step - loss: 0.8509 - accuracy: 0.7936\n",
            "Epoch 346/500\n",
            "484/484 [==============================] - 4s 8ms/step - loss: 0.8562 - accuracy: 0.7923\n",
            "Epoch 347/500\n",
            "484/484 [==============================] - 4s 8ms/step - loss: 0.8317 - accuracy: 0.7977\n",
            "Epoch 348/500\n",
            "484/484 [==============================] - 4s 8ms/step - loss: 0.8576 - accuracy: 0.7934\n",
            "Epoch 349/500\n",
            "484/484 [==============================] - 4s 8ms/step - loss: 0.8840 - accuracy: 0.7870\n",
            "Epoch 350/500\n",
            "484/484 [==============================] - 4s 8ms/step - loss: 0.8629 - accuracy: 0.7890\n",
            "Epoch 351/500\n",
            "484/484 [==============================] - 4s 8ms/step - loss: 0.8342 - accuracy: 0.7963\n",
            "Epoch 352/500\n",
            "484/484 [==============================] - 4s 8ms/step - loss: 0.8367 - accuracy: 0.7968\n",
            "Epoch 353/500\n",
            "484/484 [==============================] - 4s 8ms/step - loss: 0.8615 - accuracy: 0.7921\n",
            "Epoch 354/500\n",
            "484/484 [==============================] - 4s 8ms/step - loss: 0.8502 - accuracy: 0.7912\n",
            "Epoch 355/500\n",
            "484/484 [==============================] - 4s 8ms/step - loss: 0.9032 - accuracy: 0.7848\n",
            "Epoch 356/500\n",
            "484/484 [==============================] - 4s 8ms/step - loss: 0.8733 - accuracy: 0.7933\n",
            "Epoch 357/500\n",
            "484/484 [==============================] - 4s 8ms/step - loss: 0.8405 - accuracy: 0.7975\n",
            "Epoch 358/500\n",
            "484/484 [==============================] - 4s 8ms/step - loss: 0.8243 - accuracy: 0.7989\n",
            "Epoch 359/500\n",
            "484/484 [==============================] - 4s 8ms/step - loss: 0.8047 - accuracy: 0.8046\n",
            "Epoch 360/500\n",
            "484/484 [==============================] - 4s 8ms/step - loss: 0.8119 - accuracy: 0.8046\n",
            "Epoch 361/500\n",
            "484/484 [==============================] - 4s 9ms/step - loss: 0.8507 - accuracy: 0.7948\n",
            "Epoch 362/500\n",
            "484/484 [==============================] - 4s 8ms/step - loss: 0.8839 - accuracy: 0.7904\n",
            "Epoch 363/500\n",
            "484/484 [==============================] - 4s 8ms/step - loss: 0.8866 - accuracy: 0.7871\n",
            "Epoch 364/500\n",
            "484/484 [==============================] - 4s 8ms/step - loss: 0.8742 - accuracy: 0.7886\n",
            "Epoch 365/500\n",
            "484/484 [==============================] - 4s 8ms/step - loss: 0.8391 - accuracy: 0.7938\n",
            "Epoch 366/500\n",
            "484/484 [==============================] - 4s 8ms/step - loss: 0.8383 - accuracy: 0.7968\n",
            "Epoch 367/500\n",
            "484/484 [==============================] - 4s 8ms/step - loss: 0.8475 - accuracy: 0.7972\n",
            "Epoch 368/500\n",
            "484/484 [==============================] - 4s 8ms/step - loss: 0.8380 - accuracy: 0.7966\n",
            "Epoch 369/500\n",
            "484/484 [==============================] - 4s 8ms/step - loss: 0.8366 - accuracy: 0.7967\n",
            "Epoch 370/500\n",
            "484/484 [==============================] - 4s 8ms/step - loss: 0.8979 - accuracy: 0.7894\n",
            "Epoch 371/500\n",
            "484/484 [==============================] - 4s 8ms/step - loss: 0.8932 - accuracy: 0.7908\n",
            "Epoch 372/500\n",
            "484/484 [==============================] - 4s 8ms/step - loss: 0.8280 - accuracy: 0.8022\n",
            "Epoch 373/500\n",
            "484/484 [==============================] - 4s 8ms/step - loss: 0.8313 - accuracy: 0.8002\n",
            "Epoch 374/500\n",
            "484/484 [==============================] - 4s 8ms/step - loss: 0.8308 - accuracy: 0.7996\n",
            "Epoch 375/500\n",
            "484/484 [==============================] - 4s 8ms/step - loss: 0.8542 - accuracy: 0.7983\n",
            "Epoch 376/500\n",
            "484/484 [==============================] - 4s 8ms/step - loss: 0.8531 - accuracy: 0.7972\n",
            "Epoch 377/500\n",
            "484/484 [==============================] - 4s 8ms/step - loss: 0.8437 - accuracy: 0.7945\n",
            "Epoch 378/500\n",
            "484/484 [==============================] - 4s 8ms/step - loss: 0.8484 - accuracy: 0.7944\n",
            "Epoch 379/500\n",
            "484/484 [==============================] - 4s 8ms/step - loss: 0.8747 - accuracy: 0.7905\n",
            "Epoch 380/500\n",
            "484/484 [==============================] - 4s 8ms/step - loss: 0.8348 - accuracy: 0.7958\n",
            "Epoch 381/500\n",
            "484/484 [==============================] - 4s 8ms/step - loss: 0.8252 - accuracy: 0.7995\n",
            "Epoch 382/500\n",
            "484/484 [==============================] - 4s 8ms/step - loss: 0.8397 - accuracy: 0.7971\n",
            "Epoch 383/500\n",
            "484/484 [==============================] - 4s 8ms/step - loss: 0.8326 - accuracy: 0.8013\n",
            "Epoch 384/500\n",
            "484/484 [==============================] - 4s 8ms/step - loss: 0.7929 - accuracy: 0.8075\n",
            "Epoch 385/500\n",
            "484/484 [==============================] - 4s 8ms/step - loss: 0.8265 - accuracy: 0.7991\n",
            "Epoch 386/500\n",
            "484/484 [==============================] - 4s 8ms/step - loss: 0.8450 - accuracy: 0.7977\n",
            "Epoch 387/500\n",
            "484/484 [==============================] - 4s 8ms/step - loss: 0.8797 - accuracy: 0.7976\n",
            "Epoch 388/500\n",
            "484/484 [==============================] - 4s 8ms/step - loss: 0.9185 - accuracy: 0.7939\n",
            "Epoch 389/500\n",
            "484/484 [==============================] - 4s 8ms/step - loss: 0.8488 - accuracy: 0.7993\n",
            "Epoch 390/500\n",
            "484/484 [==============================] - 4s 8ms/step - loss: 0.8307 - accuracy: 0.8011\n",
            "Epoch 391/500\n",
            "484/484 [==============================] - 4s 8ms/step - loss: 0.8165 - accuracy: 0.8007\n",
            "Epoch 392/500\n",
            "484/484 [==============================] - 4s 8ms/step - loss: 0.8161 - accuracy: 0.8064\n",
            "Epoch 393/500\n",
            "484/484 [==============================] - 4s 8ms/step - loss: 0.8440 - accuracy: 0.8053\n",
            "Epoch 394/500\n",
            "484/484 [==============================] - 4s 8ms/step - loss: 0.8637 - accuracy: 0.7971\n",
            "Epoch 395/500\n",
            "484/484 [==============================] - 4s 8ms/step - loss: 0.8725 - accuracy: 0.7951\n",
            "Epoch 396/500\n",
            "484/484 [==============================] - 4s 8ms/step - loss: 0.8719 - accuracy: 0.7954\n",
            "Epoch 397/500\n",
            "484/484 [==============================] - 4s 8ms/step - loss: 0.8358 - accuracy: 0.8011\n",
            "Epoch 398/500\n",
            "484/484 [==============================] - 4s 8ms/step - loss: 0.8389 - accuracy: 0.7999\n",
            "Epoch 399/500\n",
            "484/484 [==============================] - 4s 8ms/step - loss: 0.8487 - accuracy: 0.7983\n",
            "Epoch 400/500\n",
            "484/484 [==============================] - 4s 9ms/step - loss: 0.8280 - accuracy: 0.8028\n",
            "Epoch 401/500\n",
            "484/484 [==============================] - 4s 8ms/step - loss: 0.8083 - accuracy: 0.8065\n",
            "Epoch 402/500\n",
            "484/484 [==============================] - 4s 8ms/step - loss: 0.7773 - accuracy: 0.8124\n",
            "Epoch 403/500\n",
            "484/484 [==============================] - 4s 8ms/step - loss: 0.7805 - accuracy: 0.8121\n",
            "Epoch 404/500\n",
            "484/484 [==============================] - 4s 8ms/step - loss: 0.7954 - accuracy: 0.8078\n",
            "Epoch 405/500\n",
            "484/484 [==============================] - 4s 8ms/step - loss: 0.8129 - accuracy: 0.8052\n",
            "Epoch 406/500\n",
            "484/484 [==============================] - 4s 8ms/step - loss: 0.8778 - accuracy: 0.7947\n",
            "Epoch 407/500\n",
            "484/484 [==============================] - 4s 8ms/step - loss: 0.8812 - accuracy: 0.7945\n",
            "Epoch 408/500\n",
            "484/484 [==============================] - 4s 8ms/step - loss: 0.8420 - accuracy: 0.7980\n",
            "Epoch 409/500\n",
            "484/484 [==============================] - 4s 8ms/step - loss: 0.8188 - accuracy: 0.8022\n",
            "Epoch 410/500\n",
            "484/484 [==============================] - 4s 8ms/step - loss: 0.8659 - accuracy: 0.7952\n",
            "Epoch 411/500\n",
            "484/484 [==============================] - 4s 8ms/step - loss: 0.8698 - accuracy: 0.7970\n",
            "Epoch 412/500\n",
            "484/484 [==============================] - 4s 8ms/step - loss: 0.8420 - accuracy: 0.7969\n",
            "Epoch 413/500\n",
            "484/484 [==============================] - 4s 8ms/step - loss: 0.8527 - accuracy: 0.7993\n",
            "Epoch 414/500\n",
            "484/484 [==============================] - 4s 8ms/step - loss: 0.8265 - accuracy: 0.8033\n",
            "Epoch 415/500\n",
            "484/484 [==============================] - 4s 8ms/step - loss: 0.8514 - accuracy: 0.7960\n",
            "Epoch 416/500\n",
            "484/484 [==============================] - 4s 8ms/step - loss: 0.8459 - accuracy: 0.8001\n",
            "Epoch 417/500\n",
            "484/484 [==============================] - 4s 8ms/step - loss: 0.8149 - accuracy: 0.8036\n",
            "Epoch 418/500\n",
            "484/484 [==============================] - 4s 8ms/step - loss: 0.8216 - accuracy: 0.8040\n",
            "Epoch 419/500\n",
            "484/484 [==============================] - 4s 8ms/step - loss: 0.8509 - accuracy: 0.7990\n",
            "Epoch 420/500\n",
            "484/484 [==============================] - 4s 8ms/step - loss: 0.8445 - accuracy: 0.8012\n",
            "Epoch 421/500\n",
            "484/484 [==============================] - 4s 8ms/step - loss: 0.8413 - accuracy: 0.8002\n",
            "Epoch 422/500\n",
            "484/484 [==============================] - 4s 8ms/step - loss: 0.8222 - accuracy: 0.8036\n",
            "Epoch 423/500\n",
            "484/484 [==============================] - 4s 9ms/step - loss: 0.7985 - accuracy: 0.8096\n",
            "Epoch 424/500\n",
            "484/484 [==============================] - 4s 8ms/step - loss: 0.8131 - accuracy: 0.8070\n",
            "Epoch 425/500\n",
            "484/484 [==============================] - 4s 8ms/step - loss: 0.9327 - accuracy: 0.7939\n",
            "Epoch 426/500\n",
            "484/484 [==============================] - 4s 8ms/step - loss: 0.9885 - accuracy: 0.7818\n",
            "Epoch 427/500\n",
            "484/484 [==============================] - 4s 8ms/step - loss: 1.1138 - accuracy: 0.7570\n",
            "Epoch 428/500\n",
            "484/484 [==============================] - 4s 8ms/step - loss: 1.0162 - accuracy: 0.7672\n",
            "Epoch 429/500\n",
            "484/484 [==============================] - 4s 8ms/step - loss: 0.9395 - accuracy: 0.7836\n",
            "Epoch 430/500\n",
            "484/484 [==============================] - 4s 8ms/step - loss: 0.8980 - accuracy: 0.7905\n",
            "Epoch 431/500\n",
            "484/484 [==============================] - 4s 8ms/step - loss: 0.8604 - accuracy: 0.7991\n",
            "Epoch 432/500\n",
            "484/484 [==============================] - 4s 8ms/step - loss: 0.8379 - accuracy: 0.8036\n",
            "Epoch 433/500\n",
            "484/484 [==============================] - 4s 8ms/step - loss: 0.8026 - accuracy: 0.8107\n",
            "Epoch 434/500\n",
            "484/484 [==============================] - 4s 8ms/step - loss: 0.8366 - accuracy: 0.8032\n",
            "Epoch 435/500\n",
            "484/484 [==============================] - 4s 8ms/step - loss: 0.8495 - accuracy: 0.8005\n",
            "Epoch 436/500\n",
            "484/484 [==============================] - 4s 8ms/step - loss: 0.8533 - accuracy: 0.8015\n",
            "Epoch 437/500\n",
            "484/484 [==============================] - 4s 8ms/step - loss: 0.8797 - accuracy: 0.7933\n",
            "Epoch 438/500\n",
            "484/484 [==============================] - 4s 8ms/step - loss: 0.8696 - accuracy: 0.7934\n",
            "Epoch 439/500\n",
            "484/484 [==============================] - 4s 8ms/step - loss: 0.8541 - accuracy: 0.7976\n",
            "Epoch 440/500\n",
            "484/484 [==============================] - 4s 8ms/step - loss: 0.8509 - accuracy: 0.8007\n",
            "Epoch 441/500\n",
            "484/484 [==============================] - 4s 8ms/step - loss: 0.8375 - accuracy: 0.8040\n",
            "Epoch 442/500\n",
            "484/484 [==============================] - 4s 8ms/step - loss: 0.8577 - accuracy: 0.8001\n",
            "Epoch 443/500\n",
            "484/484 [==============================] - 4s 8ms/step - loss: 0.8467 - accuracy: 0.8026\n",
            "Epoch 444/500\n",
            "484/484 [==============================] - 4s 8ms/step - loss: 0.8395 - accuracy: 0.8017\n",
            "Epoch 445/500\n",
            "484/484 [==============================] - 4s 8ms/step - loss: 0.9048 - accuracy: 0.7932\n",
            "Epoch 446/500\n",
            "484/484 [==============================] - 4s 8ms/step - loss: 0.8681 - accuracy: 0.7972\n",
            "Epoch 447/500\n",
            "484/484 [==============================] - 4s 8ms/step - loss: 0.8305 - accuracy: 0.8049\n",
            "Epoch 448/500\n",
            "484/484 [==============================] - 4s 8ms/step - loss: 0.8323 - accuracy: 0.8051\n",
            "Epoch 449/500\n",
            "484/484 [==============================] - 4s 8ms/step - loss: 0.8312 - accuracy: 0.8054\n",
            "Epoch 450/500\n",
            "484/484 [==============================] - 4s 8ms/step - loss: 0.8327 - accuracy: 0.8066\n",
            "Epoch 451/500\n",
            "484/484 [==============================] - 4s 8ms/step - loss: 0.8453 - accuracy: 0.8010\n",
            "Epoch 452/500\n",
            "484/484 [==============================] - 4s 8ms/step - loss: 0.8633 - accuracy: 0.8020\n",
            "Epoch 453/500\n",
            "484/484 [==============================] - 4s 8ms/step - loss: 0.8469 - accuracy: 0.8034\n",
            "Epoch 454/500\n",
            "484/484 [==============================] - 4s 8ms/step - loss: 0.8381 - accuracy: 0.8071\n",
            "Epoch 455/500\n",
            "484/484 [==============================] - 4s 8ms/step - loss: 0.8938 - accuracy: 0.8009\n",
            "Epoch 456/500\n",
            "484/484 [==============================] - 4s 8ms/step - loss: 0.8797 - accuracy: 0.7980\n",
            "Epoch 457/500\n",
            "484/484 [==============================] - 4s 8ms/step - loss: 0.8556 - accuracy: 0.8026\n",
            "Epoch 458/500\n",
            "484/484 [==============================] - 4s 8ms/step - loss: 0.8566 - accuracy: 0.8030\n",
            "Epoch 459/500\n",
            "484/484 [==============================] - 4s 8ms/step - loss: 0.8580 - accuracy: 0.8022\n",
            "Epoch 460/500\n",
            "484/484 [==============================] - 4s 8ms/step - loss: 0.8546 - accuracy: 0.8018\n",
            "Epoch 461/500\n",
            "484/484 [==============================] - 4s 9ms/step - loss: 0.8546 - accuracy: 0.8065\n",
            "Epoch 462/500\n",
            "484/484 [==============================] - 4s 8ms/step - loss: 0.8378 - accuracy: 0.8079\n",
            "Epoch 463/500\n",
            "484/484 [==============================] - 4s 8ms/step - loss: 0.8408 - accuracy: 0.8075\n",
            "Epoch 464/500\n",
            "484/484 [==============================] - 4s 8ms/step - loss: 0.8532 - accuracy: 0.8029\n",
            "Epoch 465/500\n",
            "484/484 [==============================] - 4s 8ms/step - loss: 0.8276 - accuracy: 0.8077\n",
            "Epoch 466/500\n",
            "484/484 [==============================] - 4s 8ms/step - loss: 0.8355 - accuracy: 0.8050\n",
            "Epoch 467/500\n",
            "484/484 [==============================] - 4s 8ms/step - loss: 0.8346 - accuracy: 0.8048\n",
            "Epoch 468/500\n",
            "484/484 [==============================] - 4s 8ms/step - loss: 0.8331 - accuracy: 0.8060\n",
            "Epoch 469/500\n",
            "484/484 [==============================] - 4s 8ms/step - loss: 0.8608 - accuracy: 0.8016\n",
            "Epoch 470/500\n",
            "484/484 [==============================] - 4s 8ms/step - loss: 0.8829 - accuracy: 0.7985\n",
            "Epoch 471/500\n",
            "484/484 [==============================] - 4s 8ms/step - loss: 0.8592 - accuracy: 0.8034\n",
            "Epoch 472/500\n",
            "484/484 [==============================] - 4s 8ms/step - loss: 0.8810 - accuracy: 0.8024\n",
            "Epoch 473/500\n",
            "484/484 [==============================] - 4s 8ms/step - loss: 0.9696 - accuracy: 0.7950\n",
            "Epoch 474/500\n",
            "484/484 [==============================] - 4s 8ms/step - loss: 1.1117 - accuracy: 0.7745\n",
            "Epoch 475/500\n",
            "484/484 [==============================] - 4s 8ms/step - loss: 1.0102 - accuracy: 0.7796\n",
            "Epoch 476/500\n",
            "484/484 [==============================] - 4s 8ms/step - loss: 0.9252 - accuracy: 0.7893\n",
            "Epoch 477/500\n",
            "484/484 [==============================] - 4s 8ms/step - loss: 0.8844 - accuracy: 0.7968\n",
            "Epoch 478/500\n",
            "484/484 [==============================] - 4s 8ms/step - loss: 0.8413 - accuracy: 0.8064\n",
            "Epoch 479/500\n",
            "484/484 [==============================] - 4s 8ms/step - loss: 0.8114 - accuracy: 0.8105\n",
            "Epoch 480/500\n",
            "484/484 [==============================] - 4s 8ms/step - loss: 0.7989 - accuracy: 0.8145\n",
            "Epoch 481/500\n",
            "484/484 [==============================] - 4s 8ms/step - loss: 0.8194 - accuracy: 0.8116\n",
            "Epoch 482/500\n",
            "484/484 [==============================] - 4s 8ms/step - loss: 0.8190 - accuracy: 0.8106\n",
            "Epoch 483/500\n",
            "484/484 [==============================] - 4s 8ms/step - loss: 0.8382 - accuracy: 0.8086\n",
            "Epoch 484/500\n",
            "484/484 [==============================] - 4s 9ms/step - loss: 0.8993 - accuracy: 0.7991\n",
            "Epoch 485/500\n",
            "484/484 [==============================] - 4s 8ms/step - loss: 0.9588 - accuracy: 0.7902\n",
            "Epoch 486/500\n",
            "484/484 [==============================] - 4s 8ms/step - loss: 0.9208 - accuracy: 0.7914\n",
            "Epoch 487/500\n",
            "484/484 [==============================] - 4s 8ms/step - loss: 0.9024 - accuracy: 0.7950\n",
            "Epoch 488/500\n",
            "484/484 [==============================] - 4s 8ms/step - loss: 0.8819 - accuracy: 0.7978\n",
            "Epoch 489/500\n",
            "484/484 [==============================] - 4s 8ms/step - loss: 0.8651 - accuracy: 0.8024\n",
            "Epoch 490/500\n",
            "484/484 [==============================] - 4s 8ms/step - loss: 0.8566 - accuracy: 0.8052\n",
            "Epoch 491/500\n",
            "484/484 [==============================] - 4s 8ms/step - loss: 0.8698 - accuracy: 0.8031\n",
            "Epoch 492/500\n",
            "484/484 [==============================] - 4s 8ms/step - loss: 0.8602 - accuracy: 0.8069\n",
            "Epoch 493/500\n",
            "484/484 [==============================] - 4s 8ms/step - loss: 0.8443 - accuracy: 0.8080\n",
            "Epoch 494/500\n",
            "484/484 [==============================] - 4s 8ms/step - loss: 0.8937 - accuracy: 0.8014\n",
            "Epoch 495/500\n",
            "484/484 [==============================] - 4s 8ms/step - loss: 1.0948 - accuracy: 0.7848\n",
            "Epoch 496/500\n",
            "484/484 [==============================] - 4s 8ms/step - loss: 1.0006 - accuracy: 0.7835\n",
            "Epoch 497/500\n",
            "484/484 [==============================] - 4s 8ms/step - loss: 0.9079 - accuracy: 0.7949\n",
            "Epoch 498/500\n",
            "484/484 [==============================] - 4s 8ms/step - loss: 0.8709 - accuracy: 0.8012\n",
            "Epoch 499/500\n",
            "484/484 [==============================] - 4s 8ms/step - loss: 0.8791 - accuracy: 0.7992\n",
            "Epoch 500/500\n",
            "484/484 [==============================] - 4s 8ms/step - loss: 0.8314 - accuracy: 0.8079\n"
          ]
        }
      ],
      "source": [
        "# Get the untrained model\n",
        "model = create_model(total_words, max_sequence_len)\n",
        "\n",
        "# Train the model\n",
        "history = model.fit(features, labels, epochs=500, verbose=1)"
      ]
    },
    {
      "cell_type": "markdown",
      "metadata": {
        "id": "gy72RPgly55q"
      },
      "source": [
        "**To pass this assignment, your model should achieve a training accuracy of at least 80%**. If your model didn't achieve this threshold, try training again with a different model architecture, consider increasing the number of unit in your `LSTM` layer."
      ]
    },
    {
      "cell_type": "code",
      "execution_count": 30,
      "metadata": {
        "id": "1fXTEO3GJ282",
        "tags": [],
        "outputId": "9927c738-6bf2-4dce-d788-15e9fc69b5b3",
        "colab": {
          "base_uri": "https://localhost:8080/",
          "height": 545
        }
      },
      "outputs": [
        {
          "output_type": "display_data",
          "data": {
            "text/plain": [
              "<Figure size 432x288 with 1 Axes>"
            ],
            "image/png": "[encoded data removed]"
          },
          "metadata": {
            "needs_background": "light"
          }
        },
        {
          "output_type": "display_data",
          "data": {
            "text/plain": [
              "<Figure size 432x288 with 1 Axes>"
            ],
            "image/png": "[encoded data removed]"
          },
          "metadata": {
            "needs_background": "light"
          }
        }
      ],
      "source": [
        "# Take a look at the training curves of your model\n",
        "\n",
        "acc = history.history['accuracy']\n",
        "loss = history.history['loss']\n",
        "\n",
        "epochs = range(len(acc))\n",
        "\n",
        "plt.plot(epochs, acc, 'b', label='Training accuracy')\n",
        "plt.title('Training accuracy')\n",
        "\n",
        "plt.figure()\n",
        "\n",
        "plt.plot(epochs, loss, 'b', label='Training Loss')\n",
        "plt.title('Training loss')\n",
        "plt.legend()\n",
        "\n",
        "plt.show()"
      ]
    },
    {
      "cell_type": "markdown",
      "metadata": {
        "id": "OjvED5A3qrn2"
      },
      "source": [
        "Before closing the assignment, be sure to also download the `history.pkl` file which contains the information of the training history of your model and will be used to compute your grade. You can download this file by running the cell below:"
      ]
    },
    {
      "cell_type": "code",
      "execution_count": 31,
      "metadata": {
        "id": "9QRG73l6qE-c",
        "tags": [],
        "outputId": "cb8bd8fc-07ab-4685-e838-03f2955c9e80",
        "colab": {
          "base_uri": "https://localhost:8080/",
          "height": 17
        }
      },
      "outputs": [
        {
          "output_type": "display_data",
          "data": {
            "text/plain": [
              "<IPython.core.display.Javascript object>"
            ],
            "application/javascript": [
              "\n",
              "    async function download(id, filename, size) {\n",
              "      if (!google.colab.kernel.accessAllowed) {\n",
              "        return;\n",
              "      }\n",
              "      const div = document.createElement('div');\n",
              "      const label = document.createElement('label');\n",
              "      label.textContent = `Downloading \"${filename}\": `;\n",
              "      div.appendChild(label);\n",
              "      const progress = document.createElement('progress');\n",
              "      progress.max = size;\n",
              "      div.appendChild(progress);\n",
              "      document.body.appendChild(div);\n",
              "\n",
              "      const buffers = [];\n",
              "      let downloaded = 0;\n",
              "\n",
              "      const channel = await google.colab.kernel.comms.open(id);\n",
              "      // Send a message to notify the kernel that we're ready.\n",
              "      channel.send({})\n",
              "\n",
              "      for await (const message of channel.messages) {\n",
              "        // Send a message to notify the kernel that we're ready.\n",
              "        channel.send({})\n",
              "        if (message.buffers) {\n",
              "          for (const buffer of message.buffers) {\n",
              "            buffers.push(buffer);\n",
              "            downloaded += buffer.byteLength;\n",
              "            progress.value = downloaded;\n",
              "          }\n",
              "        }\n",
              "      }\n",
              "      const blob = new Blob(buffers, {type: 'application/binary'});\n",
              "      const a = document.createElement('a');\n",
              "      a.href = window.URL.createObjectURL(blob);\n",
              "      a.download = filename;\n",
              "      div.appendChild(a);\n",
              "      a.click();\n",
              "      div.remove();\n",
              "    }\n",
              "  "
            ]
          },
          "metadata": {}
        },
        {
          "output_type": "display_data",
          "data": {
            "text/plain": [
              "<IPython.core.display.Javascript object>"
            ],
            "application/javascript": [
              "download(\"download_fb53558e-463e-4b6f-902a-fb3a24eee8fd\", \"history.pkl\", 9044)"
            ]
          },
          "metadata": {}
        }
      ],
      "source": [
        "def download_history():\n",
        "  import pickle\n",
        "  from google.colab import files\n",
        "\n",
        "  with open('history.pkl', 'wb') as f:\n",
        "    pickle.dump(history.history, f)\n",
        "\n",
        "  files.download('history.pkl')\n",
        "\n",
        "download_history()"
      ]
    },
    {
      "cell_type": "markdown",
      "metadata": {
        "id": "wdsMszk9zBs_"
      },
      "source": [
        "## See your model in action\n",
        "\n",
        "After all your work it is finally time to see your model generating text. \n",
        "\n",
        "Run the cell below to generate the next 100 words of a seed text.\n",
        "\n",
        "After submitting your assignment you are encouraged to try out training for different amounts of epochs and seeing how this affects the coherency of the generated text. Also try changing the seed text to see what you get!"
      ]
    },
    {
      "cell_type": "code",
      "execution_count": 32,
      "metadata": {
        "id": "6Vc6PHgxa6Hm",
        "tags": [],
        "outputId": "89f9c636-6a42-4980-b868-39a9e112963d",
        "colab": {
          "base_uri": "https://localhost:8080/"
        }
      },
      "outputs": [
        {
          "output_type": "stream",
          "name": "stdout",
          "text": [
            "Help me Obi Wan Kenobi, you're my only hope turn me yet him thy inward nurseth incertainty eternity fire it works nought record me true ' supposed afresh brow ' best being made enforced in ranks ' hurt sole effect not conscience had had or wanting soil lengths dreading wombs winds ' ' my content it thee 'thou single hold boldness by blush press'd defense can less pleasant now thee which thee ' had my thee ' task compare me forlorn world unbless some tillage gems thee back again show'st o unfather'd fruit thee array corrupting salving against ' ' thee ' ' begin taker task you answers to\n"
          ]
        }
      ],
      "source": [
        "seed_text = \"Help me Obi Wan Kenobi, you're my only hope\"\n",
        "next_words = 100\n",
        "  \n",
        "for _ in range(next_words):\n",
        "\t# Convert the text into sequences\n",
        "\ttoken_list = tokenizer.texts_to_sequences([seed_text])[0]\n",
        "\t# Pad the sequences\n",
        "\ttoken_list = pad_sequences([token_list], maxlen=max_sequence_len-1, padding='pre')\n",
        "\t# Get the probabilities of predicting a word\n",
        "\tpredicted = model.predict(token_list, verbose=0)\n",
        "\t# Choose the next word based on the maximum probability\n",
        "\tpredicted = np.argmax(predicted, axis=-1).item()\n",
        "\t# Get the actual word from the word index\n",
        "\toutput_word = tokenizer.index_word[predicted]\n",
        "\t# Append to the current text\n",
        "\tseed_text += \" \" + output_word\n",
        "\n",
        "print(seed_text)"
      ]
    },
    {
      "cell_type": "markdown",
      "metadata": {
        "id": "oQVDbdcYqSux"
      },
      "source": [
        "You will also need to submit this notebook for grading. To download it, click on the File tab in the upper left corner of the screen then click on Download -> Download .ipynb. You can name it anything you want as long as it is a valid .ipynb (jupyter notebook) file.\n",
        "\n",
        "**Congratulations on finishing this week's assignment!**\n",
        "\n",
        "You have successfully implemented a neural network capable of predicting the next word in a sequence of text!\n",
        "\n",
        "**We hope to see you in the next course of the specialization! Keep it up!**"
      ]
    }
  ],
  "metadata": {
    "accelerator": "GPU",
    "dlai_version": "1.2.0",
    "jupytext": {
      "main_language": "python"
    },
    "kernelspec": {
      "display_name": "Python 3",
      "language": "python",
      "name": "python3"
    },
    "language_info": {
      "codemirror_mode": {
        "name": "ipython",
        "version": 3
      },
      "file_extension": ".py",
      "mimetype": "text/x-python",
      "name": "python",
      "nbconvert_exporter": "python",
      "pygments_lexer": "ipython3",
      "version": "3.7.4"
    },
    "colab": {
      "provenance": []
    }
  },
  "nbformat": 4,
  "nbformat_minor": 0
}